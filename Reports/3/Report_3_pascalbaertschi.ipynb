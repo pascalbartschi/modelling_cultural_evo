{
 "cells": [
  {
   "cell_type": "markdown",
   "metadata": {},
   "source": [
    "# Report 3\n",
    "## BIO206 2023 - Lucio Vinicius <br>\n",
    "## solved by Pascal Bärtschi <br>\n",
    "\n",
    "For all questions, in addition to your answers (in markdown cells), provide each simulation code as well in a separate code cell, so that I can verify that they are working just by pressing Run. <br>\n",
    "\n",
    "**Deadline for submission**: Wednesday 12 April, 18:00. \n",
    "\n",
    "___"
   ]
  },
  {
   "cell_type": "markdown",
   "metadata": {},
   "source": [
    "* **Question 1. Segregation** <br>\n",
    "\n",
    "Adapt ABM 1 - Segregation, so that instead of two, you simulate *three* types of agents in a town, with potentially different homophyly thresholds (=required fraction of same-type individuals in their neighbourhood). <br> <br>\n",
    "Starting from an initially random distribution, populations show differences in homophyly depending on the scenarios: <br> <br>\n",
    "**Scenario 1)** The three types are moderately tolerant of other types (all thresholds = 0.5) <br>\n",
    "**Scenario 2)** The three types are intolerant (all thresholds = 0.65) <br>\n",
    "**Scenario 3)** The three types are tolerant (all thresholds = 0.15)  <br>\n",
    "**Scenario 4)** Only one of the three types is intolerant (thresholds = 0.15, 0.15, 0.65) <br>\n",
    "**Scenario 5)** Only one type is tolerant (threshold = 0.15, 0.65, 0.65) <br>\n",
    "\n",
    "For each of the scenarios above:  \n",
    "* Insert a figure with the result (first save the figure at the end of each of your simulations using the Save buttom in the simulation window. Place the saved figure in the same folder as your Jupyter notebook. Then insert figure in a *markdown* cell, using the simple code provided in the next cell). <br> \n",
    "* Discuss whether the outcome is: i) no segregation, ii) partial segregation, iii) total segregation of types. \n",
    "* Interpret the results, or why the result was i), ii) or iii).<br>\n",
    "\n",
    "Notes: <br>\n",
    "Run simulations for a *maximum* of 100,000 steps, although for some scenarios fewer than 5,000 are required to show a pattern.<br>\n",
    "Run each scenario 2-3 times to make sure of the pattern, but only present one figure for each. <br>\n",
    "Use n=1000 and r = 0.1 as in the original ABM 1.\n"
   ]
  },
  {
   "cell_type": "code",
   "execution_count": 85,
   "outputs": [
    {
     "name": "stdout",
     "output_type": "stream",
     "text": [
      "Time for (0.5, 0.5, 0.5): 0.5537831783294678 seconds for 100000 steps\n",
      "Saved: n1000_r0.1_thresh(0.5, 0.5, 0.5)_steps100000.png\n",
      "\n",
      "Time for (0.65, 0.65, 0.65): 0.23650479316711426 seconds for 100000 steps\n",
      "Saved: n1000_r0.1_thresh(0.65, 0.65, 0.65)_steps100000.png\n",
      "\n",
      "Time for (0.15, 0.15, 0.15): 0.22289109230041504 seconds for 100000 steps\n",
      "Saved: n1000_r0.1_thresh(0.15, 0.15, 0.15)_steps100000.png\n",
      "\n",
      "Time for (0.15, 0.15, 0.65): 0.23433518409729004 seconds for 100000 steps\n",
      "Saved: n1000_r0.1_thresh(0.15, 0.15, 0.65)_steps100000.png\n",
      "\n",
      "Time for (0.15, 0.65, 0.65): 0.23697996139526367 seconds for 100000 steps\n",
      "Saved: n1000_r0.1_thresh(0.15, 0.65, 0.65)_steps100000.png\n",
      "\n"
     ]
    }
   ],
   "source": [
    "# optimized code with numba library to compile loops directly in machine language\n",
    "# simulation of 100000 steps takes around 1 second, tot time: 5 seconds\n",
    "\n",
    "import numpy as np\n",
    "from numba import jit\n",
    "import matplotlib.pyplot as plt\n",
    "import time\n",
    "\n",
    "# global params\n",
    "\n",
    "n = 1000 # number of agents\n",
    "r = 0.1 # neighbourhood radius\n",
    "\n",
    "@jit(nopython = True)\n",
    "def update(axy, atype, thresh):\n",
    "    # choose random agent\n",
    "    i = np.random.randint(0, n-1)\n",
    "    # neighbour defined within given radius\n",
    "    mask_nb = np.where(((axy[i, 0] - axy[:, 0]) ** 2 + (axy[i, 1] - axy[:, 1]) ** 2) < r**2)[0]\n",
    "    # if foreigner ratio in neighbours < thresh\n",
    "    q = (len(np.where(atype[i] == atype[mask_nb])[0])-1) / len(mask_nb) # -1 to exclude agent itself\n",
    "    # print(q)\n",
    "    # check whether below threshold\n",
    "    if q < thresh[atype[i]]:\n",
    "        # assign new position\n",
    "        axy[i] = np.random.uniform(0, 1 ,size=2)\n",
    "\n",
    "    # xy_list.append(axy)\n",
    "    return axy # ,xy_list\n",
    "\n",
    "@jit(nopython = True)\n",
    "def sim(steps, thresh):\n",
    "\n",
    "    # initialize agents\n",
    "    axy = np.random.uniform(0, 1 , size = (n, 2))\n",
    "    atype  = np.random.randint(0, 3, size = n)\n",
    "    # xy_list = [axy.copy()]\n",
    "\n",
    "    # run sim\n",
    "    for i in range(steps):\n",
    "        # update system\n",
    "        axy = update(axy, atype, thresh)\n",
    "        # xy_list.append(axy.copy())\n",
    "\n",
    "    return axy, atype\n",
    "\n",
    "\n",
    "\n",
    "thresholds = [(0.5, 0.5, 0.5),\n",
    "              (0.65, 0.65, 0.65),\n",
    "              (0.15, 0.15, 0.15),\n",
    "              (0.15, 0.15, 0.65),\n",
    "              (0.15, 0.65, 0.65)]\n",
    "              # the lower the thresh the higher the tolerance\n",
    "simsteps = int(1e5)\n",
    "\n",
    "for thresh in thresholds:\n",
    "    # time\n",
    "    start = time.time()\n",
    "    # sim\n",
    "    axy, atype = sim(simsteps, thresh)\n",
    "    stop = time.time()\n",
    "\n",
    "    print(f\"Time for {thresh}: {stop-start} seconds for {simsteps} steps\")\n",
    "\n",
    "\n",
    "    # plotting after x simsteps\n",
    "    fig, ax = plt.subplots(1, 1)\n",
    "    ax.scatter(x = axy[:, 0],\n",
    "                y = axy[:, 1],\n",
    "                c = atype)\n",
    "\n",
    "    label = f\"n{n}_r{r}_thresh{thresh}_steps{simsteps}\"\n",
    "    ax.set_title(label.replace(\"_\", \" \"))\n",
    "\n",
    "\n",
    "    plt.savefig(label + \".png\")\n",
    "    plt.close()\n",
    "\n",
    "    print(\"Saved: \" + label + \".png\\n\")"
   ],
   "metadata": {
    "collapsed": false
   }
  },
  {
   "cell_type": "markdown",
   "source": [
    "# a)\n",
    "<img src=\"n1000_r0.1_thresh(0.5, 0.5, 0.5)_steps100000.png\">\n",
    "\n",
    "The final distribution of the agents implies total segregation. Even though the tolerance is moderate and the types do not relocate every time they are checked, the types do still prefer to be with their own type. This leads to steadily increasing segregation into multiple camps per type over the simulation, meaning that the longer the simulation goes the more extreme the types will be split with this tolerance\n",
    "\n"
   ],
   "metadata": {
    "collapsed": false
   }
  },
  {
   "cell_type": "markdown",
   "source": [
    "# b)\n",
    "<img src=\"n1000_r0.1_thresh(0.65, 0.65, 0.65)_steps100000.png\">\n",
    "\n",
    "The final distribution of the agents implies no segregation, which is against my personal intuition. However, because the tolerance is low, the agents relocate every time they are checked and are never satisfied with their neighbourhood. This way they keep randomly relocating, but do never aggregate nor settle in a camp as in 1a), as every agent keeps relocating.\n",
    "\n"
   ],
   "metadata": {
    "collapsed": false
   }
  },
  {
   "cell_type": "markdown",
   "source": [
    "# c)\n",
    "<img src=\"n1000_r0.1_thresh(0.15, 0.15, 0.15)_steps100000.png\">\n",
    "\n",
    "The final distribution of the agents implies no segregation, which is intuitive having high tolerance. The agents do not really care whether they're neighbourhood consists only of their own type. Thus, they hardly relocate and stay in the mixed neighbourhood."
   ],
   "metadata": {
    "collapsed": false
   }
  },
  {
   "cell_type": "markdown",
   "source": [
    "# d)\n",
    "<img src=\"n1000_r0.1_thresh(0.15, 0.15, 0.65)_steps100000.png\">\n",
    "\n",
    "The final distribution of the agents implies partial segregation. This is an interesting result, because we see that the two types with high tolerance still display the mixed behaviour as in 1c), while the intolerant agents do separate into clusters consisting only of their own. This means that tolerant types do normally stay, and the intolerant ones want to relocate until being next to their own type. This leads to the intolerant ones being left densely packed, while the tolerant one have lots of living space!"
   ],
   "metadata": {
    "collapsed": false
   }
  },
  {
   "cell_type": "markdown",
   "source": [
    "# e)\n",
    "<img src=\"n1000_r0.1_thresh(0.15, 0.65, 0.65)_steps100000.png\">\n",
    "\n",
    "The final distribution of the agents implies complete segregation. As in 1d) the intolerant agents separate into clusters of their own, while tolerant ones stay there they are. But because there are now two intolerant strains which accumulate in random areas, the tolerant ones are also on their own, as there are only three agent types. As in 1d) the intolerant ones are densely packed and tolerant ones have plenty of space.\n",
    "\n"
   ],
   "metadata": {
    "collapsed": false
   }
  },
  {
   "cell_type": "markdown",
   "metadata": {},
   "source": [
    "* **Question 2. Cultural evolution** <br>\n",
    "\n",
    "Adapt ABM 5 - Cultural evolution.  \n",
    "\n",
    "**1)** Modify the original code so that instead of transferring a new tool only to close kin, both partners transmit new tools to **all** their neighbours. \n",
    "\n",
    "**2)** Modify original code so that instead of the Agta network, you play the game with a *complete* or fully connected network of the same size. Both partners transmit findings to all their neighbours. <br>\n",
    "(Notes: to create a complete graph of size n, use *nx.complete_graph(n)* with NetworkX. <br>\n",
    "You have to remove selection of playing partner based on weights of links, since the complete graph has no weigths. Select neighbour randomly.)\n",
    "\n",
    "**3)** Modify original code so that instead of the Agta network, you play the game with a *random network* of the same size and density (see code from Intro to NetworkX notebook). As the probability *p* of an edge in the random network, use the density of the Agta network. Also transmit fidings to all neighbours. <br>\n",
    "\n",
    "For each of the three cases above, run 100 simulations. Plot the histogram with distribution of number of rounds until superdrug was discovered, and mean number of rounds.\n",
    "\n",
    "**4)** Compare the results from the three scenarios. Is there evidence that some scenarios may accelerate or slow down the discovery of a superdrug? Discuss possible reasons."
   ]
  },
  {
   "cell_type": "code",
   "execution_count": 86,
   "metadata": {},
   "outputs": [],
   "source": [
    "import numpy as np\n",
    "from numba import jit\n",
    "import matplotlib.pyplot as plt\n",
    "import random as rd\n",
    "import networkx as nx\n",
    "from progressbar import ProgressBar\n",
    "\n",
    "# general data loading and extraction\n",
    "net = 'agtanet.txt'"
   ]
  },
  {
   "cell_type": "markdown",
   "source": [
    "##### Case 1"
   ],
   "metadata": {
    "collapsed": false
   }
  },
  {
   "cell_type": "code",
   "execution_count": 28,
   "outputs": [
    {
     "name": "stderr",
     "output_type": "stream",
     "text": [
      "Sim:100% (100 of 100) |##################| Elapsed Time: 0:00:29 ETA:  00:00:00"
     ]
    },
    {
     "name": "stdout",
     "output_type": "stream",
     "text": [
      "Simulations =  100\n",
      "Mean time to discovery of C1/C2 =  57.09 rounds\n"
     ]
    },
    {
     "data": {
      "text/plain": "<Figure size 640x480 with 1 Axes>",
      "image/png": "[encoded data removed]"
     },
     "metadata": {},
     "output_type": "display_data"
    }
   ],
   "source": [
    "sims = 100\n",
    "sim_duration = [] # to store each simulation duration\n",
    "bar = ProgressBar(max_value = sims, prefix = \"Sim:\")\n",
    "\n",
    "# beginning of simulations\n",
    "for i in range(sims):\n",
    "\n",
    "    # network G has already been created\n",
    "    G = nx.read_weighted_edgelist(net, nodetype = int)\n",
    "\n",
    "    matrix_node_tools=[[0]*6 + [-1]*8 for i in range (len(G))]\n",
    "    fitness_values = [6, 8, 10, 6, 8, 10, 30, 30, 60, 60, 120, 120, 300, 300] # each column has a value\n",
    "    innovations_dict = {(0, 1, 2): 6,\n",
    "                 (3, 4, 5): 7,\n",
    "                 (0, 4, 6): 8,\n",
    "                 (1, 2, 7): 9,\n",
    "                 (4, 5, 8): 10,\n",
    "                 (1, 3, 9): 11,\n",
    "                 (8, 10, 11): 12,\n",
    "                 (9, 10, 11): 13}\n",
    "\n",
    "    rounds=10000\n",
    "    stop_sim=0\n",
    "    for epoch in range(rounds):\n",
    "        random_node_list = rd.sample(range(len(G)), len(G))\n",
    "        for node in random_node_list:\n",
    "            neighbour_list = []\n",
    "            for neighbour in G[node]:\n",
    "                for times in range(int(G[node][neighbour]['weight'])):\n",
    "                    neighbour_list.append(neighbour)\n",
    "            selected_neighbour = rd.choice(neighbour_list)\n",
    "\n",
    "            ingredients_node=np.where(np.array(matrix_node_tools[node])>-1)[0]\n",
    "            ingredients_neighbour=np.where(np.array(matrix_node_tools[selected_neighbour])>-1)[0]\n",
    "\n",
    "            node_tools=[]\n",
    "            for tool in ingredients_node:\n",
    "                for times in range(fitness_values[tool]):\n",
    "                    node_tools.append(tool)\n",
    "            node_tool_1, node_tool_2 = rd.sample(node_tools, 2)\n",
    "\n",
    "            neighbour_tools=[]\n",
    "            for tool in ingredients_neighbour:\n",
    "                for times in range(fitness_values[tool]):\n",
    "                    neighbour_tools.append(tool)\n",
    "            neighbour_tool = rd.choice(neighbour_tools)\n",
    "\n",
    "            triad = [node_tool_1, node_tool_2, neighbour_tool]\n",
    "            triad = tuple(sorted(triad))\n",
    "            new_tool = innovations_dict.get(triad,-1)\n",
    "\n",
    "\n",
    "            if new_tool > -1: # if a new drug was created (6, 7 or 8 etc)\n",
    "                # check if node and neighbour already have invented tool\n",
    "                have_new_tool = -1 # we need this later\n",
    "                if matrix_node_tools[node][new_tool] == -1: # if position (i = node, j = new tool) in matrix is absent\n",
    "                    have_new_tool = 1\n",
    "                    matrix_node_tools[node][new_tool] = epoch + 1 # node gains new tools, replace -1 with round of discovery\n",
    "###############################################################################################################\n",
    "                    for node_next in G[node]: # now use matrix G_closekin to identify all close kin of node\n",
    "                        matrix_node_tools[node_next][new_tool] = epoch + 1 # tranmits new tool to all neighbours\n",
    "################################################################################################################\n",
    "\n",
    "                if matrix_node_tools[selected_neighbour][new_tool] == -1: #check if selected neighbour has tool\n",
    "                    have_new_tool = 1\n",
    "                    matrix_node_tools[selected_neighbour][new_tool]= epoch + 1 # neighbours gains new tool\n",
    "###############################################################################################################\n",
    "                    for neighbour_kin in G[selected_neighbour]:\n",
    "                        matrix_node_tools[neighbour_kin][new_tool] = epoch+ 1\n",
    "###############################################################################################################\n",
    "\n",
    "                if have_new_tool == 1: #if either node or neighbour received the new tool\n",
    "                    #print(new_tool, epoch + 1, node, selected_neighbour)\n",
    "                    if new_tool in [12,13]: # BUT if the new tool is a superdrug C1=12 or C2=13\n",
    "                        stop_sim=1 # simulations ends\n",
    "                        sim_duration.append(epoch + 1)\n",
    "            if stop_sim==1:\n",
    "                break\n",
    "        if stop_sim==1:\n",
    "            break\n",
    "\n",
    "    bar.update(i+1)\n",
    "\n",
    "hist, _, _ = plt.hist(sim_duration, facecolor='b', alpha=.5, rwidth=.8)\n",
    "mean = np.mean(sim_duration)\n",
    "plt.vlines(x = mean, ymin = min(hist), ymax = max(hist), label = f\"mean = {mean}\", colors = \"red\")\n",
    "plt.legend(loc = \"upper right\")\n",
    "plt.title(\"Round distribution of Case 1\")\n",
    "plt.xlabel(\"Rounds\")\n",
    "plt.ylabel(\"Frequency\")\n",
    "plt.savefig(\"2hist_case1.png\")\n",
    "# plt.show()\n",
    "print(\"Simulations = \", sims)\n",
    "print(\"Mean time to discovery of C1/C2 = \", mean, \"rounds\")"
   ],
   "metadata": {
    "collapsed": false
   }
  },
  {
   "cell_type": "markdown",
   "source": [
    "##### Case 2"
   ],
   "metadata": {
    "collapsed": false
   }
  },
  {
   "cell_type": "code",
   "execution_count": 29,
   "outputs": [
    {
     "name": "stderr",
     "output_type": "stream",
     "text": [
      "Sim:100% (100 of 100) |##################| Elapsed Time: 0:00:43 ETA:  00:00:00"
     ]
    },
    {
     "name": "stdout",
     "output_type": "stream",
     "text": [
      "Simulations =  100\n",
      "Mean time to discovery of C1/C2 =  158.32 rounds\n"
     ]
    },
    {
     "data": {
      "text/plain": "<Figure size 640x480 with 1 Axes>",
      "image/png": "[encoded data removed]"
     },
     "metadata": {},
     "output_type": "display_data"
    }
   ],
   "source": [
    "sims = 100\n",
    "sim_duration = []  # to store each simulation duration\n",
    "bar = ProgressBar(max_value = sims, prefix = \"Sim:\")\n",
    "\n",
    "# beginning of simulations\n",
    "for i in range(sims):\n",
    "    # complete graph\n",
    "    C = nx.complete_graph(53)\n",
    "\n",
    "    matrix_node_tools = [[0] * 6 + [-1] * 8 for i in range(len(C))]\n",
    "    fitness_values = [6, 8, 10, 6, 8, 10, 30, 30, 60, 60, 120, 120, 300, 300]  # each column has a value\n",
    "    innovations_dict = {(0, 1, 2): 6,\n",
    "                        (3, 4, 5): 7,\n",
    "                        (0, 4, 6): 8,\n",
    "                        (1, 2, 7): 9,\n",
    "                        (4, 5, 8): 10,\n",
    "                        (1, 3, 9): 11,\n",
    "                        (8, 10, 11): 12,\n",
    "                        (9, 10, 11): 13}\n",
    "\n",
    "    rounds = 10000\n",
    "    stop_sim = 0\n",
    "    for epoch in range(rounds):\n",
    "        random_node_list = rd.sample(range(len(G)), len(G))\n",
    "        for node in random_node_list:\n",
    "            # select from C\n",
    "            selected_neighbour = rd.choice(list(C[node]))\n",
    "\n",
    "            ingredients_node = np.where(np.array(matrix_node_tools[node]) > -1)[0]\n",
    "            ingredients_neighbour = np.where(np.array(matrix_node_tools[selected_neighbour]) > -1)[0]\n",
    "\n",
    "            node_tools = []\n",
    "            for tool in ingredients_node:\n",
    "                for times in range(fitness_values[tool]):\n",
    "                    node_tools.append(tool)\n",
    "            node_tool_1, node_tool_2 = rd.sample(node_tools, 2)\n",
    "\n",
    "            neighbour_tools = []\n",
    "            for tool in ingredients_neighbour:\n",
    "                for times in range(fitness_values[tool]):\n",
    "                    neighbour_tools.append(tool)\n",
    "            neighbour_tool = rd.choice(neighbour_tools)\n",
    "\n",
    "            triad = [node_tool_1, node_tool_2, neighbour_tool]\n",
    "            triad = tuple(sorted(triad))\n",
    "            new_tool = innovations_dict.get(triad, -1)\n",
    "\n",
    "            # until here, similar to previous cell\n",
    "\n",
    "            if new_tool > -1:  # if a new drug was created (6, 7 or 8 etc)\n",
    "                # check if node and neighbour already have invented tool\n",
    "                have_new_tool = -1  # we need this later\n",
    "                if matrix_node_tools[node][new_tool] == -1:  # if position (i = node, j = new tool) in matrix is absent\n",
    "                    have_new_tool = 1\n",
    "                    matrix_node_tools[node][\n",
    "                        new_tool] = epoch + 1  # node gains new tools, replace -1 with round of discovery\n",
    "                    for node_next in C[node]:  # now use matrix G_closekin to identify all close kin of node\n",
    "                        matrix_node_tools[node_next][new_tool] = epoch + 1  # tranmits new tool to all kin\n",
    "\n",
    "                if matrix_node_tools[selected_neighbour][new_tool] == -1:  #check if selected neighbour has tool\n",
    "                    have_new_tool = 1\n",
    "                    matrix_node_tools[selected_neighbour][new_tool] = epoch + 1  # neighbours gains new tool\n",
    "                    for neighbour_next in C[selected_neighbour]:\n",
    "                        matrix_node_tools[neighbour_next][new_tool] = epoch + 1\n",
    "\n",
    "                if have_new_tool == 1:  #if either node or neighbour received the new tool\n",
    "                    #print(new_tool, epoch + 1, node, selected_neighbour)\n",
    "                    if new_tool in [12, 13]:  # BUT if the new tool is a superdrug C1=12 or C2=13\n",
    "                        stop_sim = 1  # simulations ends\n",
    "                        sim_duration.append(epoch + 1)\n",
    "            if stop_sim == 1:\n",
    "                break\n",
    "        if stop_sim == 1:\n",
    "            break\n",
    "    bar.update(i+1)\n",
    "\n",
    "hist, _, _ = plt.hist(sim_duration, facecolor='b', alpha=.5, rwidth=.8)\n",
    "mean = np.mean(sim_duration)\n",
    "plt.vlines(x = mean, ymin = min(hist), ymax = max(hist), label = f\"mean = {mean}\", colors = \"red\")\n",
    "plt.legend(loc = \"upper right\")\n",
    "plt.title(\"Round distribution of Case 2\")\n",
    "plt.xlabel(\"Rounds\")\n",
    "plt.ylabel(\"Frequency\")\n",
    "plt.savefig(\"2hist_case2.png\")\n",
    "# plt.show()\n",
    "print(\"Simulations = \", sims)\n",
    "print(\"Mean time to discovery of C1/C2 = \", mean, \"rounds\")"
   ],
   "metadata": {
    "collapsed": false
   }
  },
  {
   "cell_type": "markdown",
   "source": [
    "##### Case 3"
   ],
   "metadata": {
    "collapsed": false
   }
  },
  {
   "cell_type": "code",
   "execution_count": 31,
   "outputs": [
    {
     "name": "stderr",
     "output_type": "stream",
     "text": [
      "Sim:100% (100 of 100) |##################| Elapsed Time: 0:00:32 ETA:  00:00:00"
     ]
    },
    {
     "name": "stdout",
     "output_type": "stream",
     "text": [
      "Simulations =  100\n",
      "Mean time to discovery of C1/C2 =  63.71 rounds\n"
     ]
    },
    {
     "data": {
      "text/plain": "<Figure size 640x480 with 1 Axes>",
      "image/png": "[encoded data removed]"
     },
     "metadata": {},
     "output_type": "display_data"
    }
   ],
   "source": [
    "sims = 100\n",
    "sim_duration = [] # to store each simulation duration\n",
    "sizeG = len(G)\n",
    "degrees = sum(dict(G.degree()).values()) / sizeG / (sizeG-1) # first calcs mean degree, then probability to bind to random node\n",
    "bar = ProgressBar(max_value = sims, prefix = \"Sim:\")\n",
    "\n",
    "\n",
    "# beginning of simulations\n",
    "for i in range(sims):\n",
    "    R = nx.erdos_renyi_graph(sizeG,degrees)\n",
    "\n",
    "    matrix_node_tools=[[0]*6 + [-1]*8 for i in range (len(G))]\n",
    "    fitness_values = [6, 8, 10, 6, 8, 10, 30, 30, 60, 60, 120, 120, 300, 300] # each column has a value\n",
    "    innovations_dict = {(0, 1, 2): 6,\n",
    "                 (3, 4, 5): 7,\n",
    "                 (0, 4, 6): 8,\n",
    "                 (1, 2, 7): 9,\n",
    "                 (4, 5, 8): 10,\n",
    "                 (1, 3, 9): 11,\n",
    "                 (8, 10, 11): 12,\n",
    "                 (9, 10, 11): 13}\n",
    "\n",
    "    rounds=10000\n",
    "    stop_sim=0\n",
    "    for epoch in range(rounds):\n",
    "        random_node_list = rd.sample(range(len(G)), len(G))\n",
    "        for node in random_node_list:\n",
    "            neighbour_list = []\n",
    "            for neighbour in G[node]:\n",
    "                for times in range(int(G[node][neighbour]['weight'])):\n",
    "                    neighbour_list.append(neighbour)\n",
    "            selected_neighbour = rd.choice(neighbour_list)\n",
    "\n",
    "            ingredients_node=np.where(np.array(matrix_node_tools[node])>-1)[0]\n",
    "            ingredients_neighbour=np.where(np.array(matrix_node_tools[selected_neighbour])>-1)[0]\n",
    "\n",
    "            node_tools=[]\n",
    "            for tool in ingredients_node:\n",
    "                for times in range(fitness_values[tool]):\n",
    "                    node_tools.append(tool)\n",
    "            node_tool_1, node_tool_2 = rd.sample(node_tools, 2)\n",
    "\n",
    "            neighbour_tools=[]\n",
    "            for tool in ingredients_neighbour:\n",
    "                for times in range(fitness_values[tool]):\n",
    "                    neighbour_tools.append(tool)\n",
    "            neighbour_tool = rd.choice(neighbour_tools)\n",
    "\n",
    "            triad = [node_tool_1, node_tool_2, neighbour_tool]\n",
    "            triad = tuple(sorted(triad))\n",
    "            new_tool = innovations_dict.get(triad,-1)\n",
    "\n",
    "            # until here, similar to previous cell\n",
    "\n",
    "            if new_tool > -1: # if a new drug was created (6, 7 or 8 etc)\n",
    "                # check if node and neighbour already have invented tool\n",
    "                have_new_tool = -1 # we need this later\n",
    "                if matrix_node_tools[node][new_tool] == -1: # if position (i = node, j = new tool) in matrix is absent\n",
    "                    have_new_tool = 1\n",
    "                    matrix_node_tools[node][new_tool] = epoch + 1 # node gains new tools, replace -1 with round of discovery\n",
    "                    for node_kin in R[node]: # now use matrix G_closekin to identify all close kin of node\n",
    "                        matrix_node_tools[node_kin][new_tool] = epoch + 1 # tranmits new tool to all kin\n",
    "\n",
    "                if matrix_node_tools[selected_neighbour][new_tool] == -1: #check if selected neighbour has tool\n",
    "                    have_new_tool = 1\n",
    "                    matrix_node_tools[selected_neighbour][new_tool]= epoch + 1 # neighbours gains new tool\n",
    "                    for neighbour_next in R[selected_neighbour]:\n",
    "                        matrix_node_tools[neighbour_kin][new_tool] = epoch+ 1\n",
    "\n",
    "                if have_new_tool == 1: #if either node or neighbour received the new tool\n",
    "                    #print(new_tool, epoch + 1, node, selected_neighbour)\n",
    "                    if new_tool in [12,13]: # BUT if the new tool is a superdrug C1=12 or C2=13\n",
    "                        stop_sim=1 # simulations ends\n",
    "                        sim_duration.append(epoch + 1)\n",
    "            if stop_sim==1:\n",
    "                break\n",
    "        if stop_sim==1:\n",
    "            break\n",
    "\n",
    "    bar.update(i+1)\n",
    "\n",
    "hist, _, _ = plt.hist(sim_duration, facecolor='b', alpha=.5, rwidth=.8)\n",
    "mean = np.mean(sim_duration)\n",
    "plt.vlines(x = mean, ymin = min(hist), ymax = max(hist), label = f\"mean = {mean}\", colors = \"red\")\n",
    "plt.legend(loc = \"upper right\")\n",
    "plt.title(\"Round distribution of Case 3\")\n",
    "plt.xlabel(\"Rounds\")\n",
    "plt.ylabel(\"Frequency\")\n",
    "plt.savefig(\"2hist_case3.png\")\n",
    "# plt.show()\n",
    "print(\"Simulations = \", sims)\n",
    "print(\"Mean time to discovery of C1/C2 = \", mean, \"rounds\")"
   ],
   "metadata": {
    "collapsed": false
   }
  },
  {
   "cell_type": "markdown",
   "source": [
    "##### Discussion"
   ],
   "metadata": {
    "collapsed": false
   }
  },
  {
   "cell_type": "markdown",
   "source": [
    "\n",
    "<img src=\"2hist_case1.png\"> <return>\n",
    "<img src=\"2hist_case2.png\"> <return>\n",
    "<img src=\"2hist_case3.png\">\n"
   ],
   "metadata": {
    "collapsed": false
   }
  },
  {
   "cell_type": "code",
   "execution_count": 82,
   "outputs": [],
   "source": [
    "# draw acta network\n",
    "edges = [(u, v) for (u, v) in G.edges()]\n",
    "weights = [d['weight']*0.1 for (u, v, d) in G.edges(data=True)]\n",
    "\n",
    "plt.figure(figsize=(12, 12))\n",
    "pos = nx.spring_layout(G, k=2) # k for spacier display\n",
    "nx.draw_networkx_nodes(G, pos, node_size=300)# draw nodes\n",
    "nx.draw_networkx_edges(G, pos, edgelist=edges, width=weights)# draw edges\n",
    "nx.draw_networkx_labels(G, pos, font_size=20)# draw labels\n",
    "plt.title(\"Visualization of Agta-Network with edge weigths\")\n",
    "plt.savefig(\"agtanet_visualization.png\")\n",
    "plt.close()"
   ],
   "metadata": {
    "collapsed": false
   }
  },
  {
   "cell_type": "markdown",
   "source": [
    "Comparing the histograms with the simulation rounds distribution until the superdrugs have been discovers leads to two direct conclusions:\n",
    "* Having a fully connected network slows down the discovery of the superdrug compared to the random and Agta network.\n",
    "* Thus, the Agta network has more properties with a random network of similar size and degree-probability than with a fully conncted network.\n",
    "\n",
    "Intuitively, we know that isolation is bad for fast cultural evolution and that some interconnection facilitates cultural evolution. However, complete connectivity of networks may reduce diversity due to fast transmission of popular solutions, eliminating diversity required for cultural recombination (Derex and Boyd 2016). Thus. the speed of cultural is higher in partially than fully connected networks. A good example that exists in the real network is the model of small world networks that optimize the tradeoff between mean path length and cliquishness. This means easy spread of information, while diversity in the cliques remains high.\n",
    "<return>\n",
    "<img src=\"agtanet_visualization.png\">\n",
    "<return>\n",
    "Visually analyzing the structure of the Agta network I see its similarity with a small world network. The random network originates from the parameters of the Agta network and will thus have similar structure. There are strong bonds within cliques and some weaker, but important ones between cliques. The weights of the edges do also play a role, as the random network without weights needs 6 rounds more to discover the superdrug on average.\n",
    "In closing, I can conclude that the partially connected networks, in small world network style, show faster transmission than complete connected networks. Thus, important roles play cliquishness and mean path length of the network to keep diversity, but fast information exchange. This little simulation study confirms findings by Derex and Boyd 2016 and underlines the importance of small networks in studying the cultural and social evolution of our species.\n"
   ],
   "metadata": {
    "collapsed": false
   }
  },
  {
   "cell_type": "code",
   "execution_count": null,
   "outputs": [],
   "source": [],
   "metadata": {
    "collapsed": false
   }
  }
 ],
 "metadata": {
  "kernelspec": {
   "display_name": "Python 3",
   "language": "python",
   "name": "python3"
  },
  "language_info": {
   "codemirror_mode": {
    "name": "ipython",
    "version": 3
   },
   "file_extension": ".py",
   "mimetype": "text/x-python",
   "name": "python",
   "nbconvert_exporter": "python",
   "pygments_lexer": "ipython3",
   "version": "3.8.5"
  }
 },
 "nbformat": 4,
 "nbformat_minor": 4
}
