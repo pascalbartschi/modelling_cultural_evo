{
 "cells": [
  {
   "cell_type": "markdown",
   "metadata": {},
   "source": [
    "From their original sets above, they choose tools based on drug value. <br>\n",
    "To create the drug triad, node selects TWO drugs, and neighbour selects ONE"
   ]
  },
  {
   "cell_type": "markdown",
   "source": [
    "# ABM 5\n",
    "## Cultural evolution"
   ],
   "metadata": {
    "collapsed": false
   }
  },
  {
   "cell_type": "markdown",
   "source": [
    "<p> We will simulate the cultural evolution of a medicinal cocktail (or tools etc; anything that can evolve through either gradual improvement or recombination of existing elements) over various rounds of recombination of an initial set of basic ingredients. <br>\n",
    "\n",
    "We simulate an experiment where pairs of individuals mixed virtual medicines to generate cocktails. Some unique combinations represented innovations of higher medicinal value. <br>\n",
    "\n",
    "The end of the simulation occurs when a pair combines two lineages of cocktails A and B into a super drug cocktail C.\n",
    "\n",
    "Cultural evolution occurs in a social network, where edges differ by their weight (reflecting level of social contact). <br>\n",
    "First we import the file with data on nodes, edges and weights.</p>\n",
    "\n",
    "Original article: Migliano, A. B. et al. Hunter-gatherer multilevel sociality accelerates cumulative cultural evolution. Sci. Adv. 6, eaax5913 (2020)."
   ],
   "metadata": {
    "collapsed": false
   }
  },
  {
   "cell_type": "code",
   "execution_count": 14,
   "outputs": [
    {
     "name": "stdout",
     "output_type": "stream",
     "text": [
      "Graph with 53 nodes and 477 edges\n"
     ]
    },
    {
     "name": "stderr",
     "output_type": "stream",
     "text": [
      "/var/folders/pb/csxhkt_j7zg014q0zhg0hj180000gp/T/ipykernel_1650/1668361215.py:7: DeprecationWarning: info is deprecated and will be removed in version 3.0.\n",
      "\n",
      "  print(nx.info(G))\n"
     ]
    }
   ],
   "source": [
    "import networkx as nx\n",
    "import random as rd\n",
    "import numpy as np\n",
    "\n",
    "net = 'agtanet.txt'\n",
    "G = nx.read_weighted_edgelist(net, nodetype = int)\n",
    "print(nx.info(G))"
   ],
   "metadata": {
    "collapsed": false
   }
  },
  {
   "cell_type": "code",
   "execution_count": 15,
   "outputs": [
    {
     "name": "stdout",
     "output_type": "stream",
     "text": [
      "[0, 1, 2, 11, 20, 22, 23, 24, 25, 27, 31, 32, 33, 35, 36, 37, 38, 41, 43, 45, 13, 42, 44, 3, 4, 6, 7, 8, 15, 16, 21, 26, 28, 29, 30, 46, 5, 47, 48, 40, 9, 12, 14, 18, 19, 10, 17, 34, 39, 52, 49, 50, 51]\n"
     ]
    }
   ],
   "source": [
    "#list of nodes in G\n",
    "print(G.nodes())"
   ],
   "metadata": {
    "collapsed": false
   }
  },
  {
   "cell_type": "code",
   "execution_count": 16,
   "outputs": [
    {
     "data": {
      "text/plain": "AtlasView({0: {'weight': 1.0}, 1: {'weight': 1.0}, 10: {'weight': 121.0}, 12: {'weight': 1.0}, 13: {'weight': 7.0}, 14: {'weight': 13.0}, 16: {'weight': 14.0}, 17: {'weight': 13.0}, 18: {'weight': 5.0}, 19: {'weight': 1.0}, 20: {'weight': 7.0}, 21: {'weight': 5.0}, 22: {'weight': 37.0}, 23: {'weight': 28.0}, 25: {'weight': 1.0}, 31: {'weight': 1.0}, 34: {'weight': 79.0}, 35: {'weight': 79.0}, 36: {'weight': 46.0}, 37: {'weight': 33.0}, 38: {'weight': 33.0}, 39: {'weight': 18.0}, 40: {'weight': 2.0}, 41: {'weight': 4.0}, 43: {'weight': 33.0}})"
     },
     "execution_count": 16,
     "metadata": {},
     "output_type": "execute_result"
    }
   ],
   "source": [
    "# G[i] lists all neighbours of node i in G\n",
    "G[11]"
   ],
   "metadata": {
    "collapsed": false
   }
  },
  {
   "cell_type": "code",
   "execution_count": 17,
   "outputs": [
    {
     "data": {
      "text/plain": "{'weight': 7.0}"
     },
     "execution_count": 17,
     "metadata": {},
     "output_type": "execute_result"
    }
   ],
   "source": [
    "# to list all 477 edges\n",
    "#G.edges()\n",
    "\n",
    "# all edges with data (weight) info\n",
    "#G.edges(data=True)\n",
    "\n",
    "# to check if an edge exists:\n",
    "G.has_edge(2,36)\n",
    "\n",
    "# if it does. to list data (weight) on edge 2, 26\n",
    "G[2][26]\n",
    "\n"
   ],
   "metadata": {
    "collapsed": false
   }
  },
  {
   "cell_type": "markdown",
   "source": [
    "<p> We have another file (agtanetkin.txt) with info on kinship (relatedness) between the  nodes in each dyad.<br>\n",
    "Kinship was coded on three levels: kin = 10 (close kin), kin = 20 (distant kin), kin = 30 (non-kin). <br>\n",
    "Let us import it as well, with another name.</p>"
   ],
   "metadata": {
    "collapsed": false
   }
  },
  {
   "cell_type": "code",
   "execution_count": 18,
   "outputs": [
    {
     "name": "stdout",
     "output_type": "stream",
     "text": [
      "['0 1 269.0 10\\n']\n"
     ]
    }
   ],
   "source": [
    "kin = 'agtanetkin.txt'\n",
    "file_kin = open(kin, \"r\") # 'open' reads  kin, and creates file_kin in session\n",
    "\n",
    "print(file_kin.readlines(1))"
   ],
   "metadata": {
    "collapsed": false
   }
  },
  {
   "cell_type": "markdown",
   "source": [
    "Multiple nodes and weights were read as a single item. We need to split the line into separate values"
   ],
   "metadata": {
    "collapsed": false
   }
  },
  {
   "cell_type": "code",
   "execution_count": 19,
   "outputs": [
    {
     "name": "stdout",
     "output_type": "stream",
     "text": [
      "0 2 3.0 30\n",
      "\n",
      "['0', ' ', '2', ' ', '3', '.', '0', ' ', '3', '0', '\\n']\n",
      "['0', '2', '3.0', '30\\n']\n",
      "['0', '2', '3.0', '30']\n",
      "[0, 2, 3, 30]\n"
     ]
    }
   ],
   "source": [
    "for line in file_kin.readlines(1):\n",
    "    print(line)\n",
    "    elems0 = [x for x in line]\n",
    "    elems1 = [x for x in line.split(\" \")]\n",
    "    elems2 = [x for x in line.strip(\"\\n \").split(\" \")]\n",
    "    elems3 = [int(float(x)) for x in line.strip(\"\\n \").split(\" \")] # that's what we want\n",
    "    #elems4 = [float(x) if \".\" in x else int(x) for x in line.strip(\"\\n \").split(\" \")]\n",
    "\n",
    "print(elems0)\n",
    "print(elems1)\n",
    "print(elems2)\n",
    "print(elems3)\n",
    "#print(elems4)\n",
    "\n",
    "file_kin.close()"
   ],
   "metadata": {
    "collapsed": false
   }
  },
  {
   "cell_type": "code",
   "execution_count": 20,
   "outputs": [],
   "source": [
    "Agtakin = 'agtanetkin.txt'\n",
    "file_kin = open(Agtakin, \"r\")\n",
    "\n",
    "for line in file_kin.readlines():\n",
    "#   elems = [int(float(x)) if \"e\" in x or \".\" in x else int(x) for x in line.strip(\"\\n \").split(\" \")]\n",
    "    elems = [int(float(x)) for x in line.strip(\"\\n \").split(\" \")] # that's what we want\n",
    "    i=elems[0] # extracts i and j nodes from dyad\n",
    "    j=elems[1]\n",
    "    kinship = int(elems[3]/10) # so kinship is 1 for close kin, 2 for distant kin, 3 for non-kin\n",
    "\n",
    "    if G.has_edge(i,j): # now check if (i, j) exists in the network G created earlier\n",
    "        G[i][j]['kin'] = kinship # if so, create attribute 'kin' with value kinship\n",
    "\n",
    "file_kin.close() #close file"
   ],
   "metadata": {
    "collapsed": false
   }
  },
  {
   "cell_type": "code",
   "execution_count": 21,
   "outputs": [
    {
     "data": {
      "text/plain": "EdgeDataView([(0, 1, {'weight': 269.0, 'kin': 1}), (0, 2, {'weight': 3.0, 'kin': 3}), (0, 11, {'weight': 1.0, 'kin': 3}), (0, 20, {'weight': 1.0, 'kin': 3}), (0, 22, {'weight': 1.0, 'kin': 3}), (0, 23, {'weight': 4.0, 'kin': 3}), (0, 24, {'weight': 115.0, 'kin': 3}), (0, 25, {'weight': 1.0, 'kin': 3}), (0, 27, {'weight': 2.0, 'kin': 3}), (0, 31, {'weight': 1.0, 'kin': 3}), (0, 32, {'weight': 1.0, 'kin': 3}), (0, 33, {'weight': 4.0, 'kin': 3}), (0, 35, {'weight': 1.0, 'kin': 3}), (0, 36, {'weight': 1.0, 'kin': 3}), (0, 37, {'weight': 1.0, 'kin': 3}), (0, 38, {'weight': 1.0, 'kin': 3}), (0, 41, {'weight': 2.0, 'kin': 3}), (0, 43, {'weight': 1.0, 'kin': 3}), (0, 45, {'weight': 2.0, 'kin': 3}), (1, 2, {'weight': 3.0, 'kin': 3}), (1, 11, {'weight': 1.0, 'kin': 3}), (1, 13, {'weight': 1.0, 'kin': 3}), (1, 20, {'weight': 1.0, 'kin': 3}), (1, 22, {'weight': 9.0, 'kin': 3}), (1, 23, {'weight': 12.0, 'kin': 3}), (1, 24, {'weight': 107.0, 'kin': 1}), (1, 25, {'weight': 3.0, 'kin': 2}), (1, 27, {'weight': 5.0, 'kin': 2}), (1, 31, {'weight': 1.0, 'kin': 3}), (1, 33, {'weight': 6.0, 'kin': 2}), (1, 35, {'weight': 1.0, 'kin': 3}), (1, 37, {'weight': 2.0, 'kin': 3}), (1, 38, {'weight': 1.0, 'kin': 3}), (1, 41, {'weight': 1.0, 'kin': 3}), (1, 42, {'weight': 1.0, 'kin': 2}), (1, 43, {'weight': 11.0, 'kin': 3}), (1, 44, {'weight': 1.0, 'kin': 3}), (1, 45, {'weight': 3.0, 'kin': 3}), (2, 3, {'weight': 6.0, 'kin': 1}), (2, 4, {'weight': 8.0, 'kin': 3}), (2, 6, {'weight': 1.0, 'kin': 3}), (2, 7, {'weight': 7.0, 'kin': 1}), (2, 8, {'weight': 1.0, 'kin': 3}), (2, 15, {'weight': 2.0, 'kin': 3}), (2, 16, {'weight': 1.0, 'kin': 3}), (2, 21, {'weight': 1.0, 'kin': 3}), (2, 24, {'weight': 3.0, 'kin': 3}), (2, 25, {'weight': 86.0, 'kin': 3}), (2, 26, {'weight': 7.0, 'kin': 3}), (2, 27, {'weight': 32.0, 'kin': 3}), (2, 28, {'weight': 111.0, 'kin': 3}), (2, 29, {'weight': 130.0, 'kin': 2}), (2, 30, {'weight': 31.0, 'kin': 2}), (2, 31, {'weight': 35.0, 'kin': 1}), (2, 33, {'weight': 10.0, 'kin': 2}), (2, 35, {'weight': 1.0, 'kin': 3}), (2, 36, {'weight': 10.0, 'kin': 3}), (2, 37, {'weight': 10.0, 'kin': 3}), (2, 41, {'weight': 16.0, 'kin': 3}), (2, 42, {'weight': 156.0, 'kin': 3}), (2, 44, {'weight': 2.0, 'kin': 3}), (2, 46, {'weight': 1.0, 'kin': 3}), (11, 10, {'weight': 121.0, 'kin': 1}), (11, 12, {'weight': 1.0, 'kin': 3}), (11, 13, {'weight': 7.0, 'kin': 3}), (11, 14, {'weight': 13.0, 'kin': 3}), (11, 16, {'weight': 14.0, 'kin': 3}), (11, 17, {'weight': 13.0, 'kin': 2}), (11, 18, {'weight': 5.0, 'kin': 2}), (11, 19, {'weight': 1.0, 'kin': 3}), (11, 20, {'weight': 7.0, 'kin': 3}), (11, 21, {'weight': 5.0, 'kin': 3}), (11, 22, {'weight': 37.0, 'kin': 3}), (11, 23, {'weight': 28.0, 'kin': 3}), (11, 25, {'weight': 1.0, 'kin': 3}), (11, 31, {'weight': 1.0, 'kin': 3}), (11, 34, {'weight': 79.0, 'kin': 3}), (11, 35, {'weight': 79.0, 'kin': 2}), (11, 36, {'weight': 46.0, 'kin': 3}), (11, 37, {'weight': 33.0, 'kin': 3}), (11, 38, {'weight': 33.0, 'kin': 3}), (11, 39, {'weight': 18.0, 'kin': 3}), (11, 40, {'weight': 2.0, 'kin': 3}), (11, 41, {'weight': 4.0, 'kin': 3}), (11, 43, {'weight': 33.0, 'kin': 3}), (20, 9, {'weight': 17.0, 'kin': 3}), (20, 10, {'weight': 5.0, 'kin': 3}), (20, 12, {'weight': 22.0, 'kin': 3}), (20, 13, {'weight': 300.0, 'kin': 3}), (20, 14, {'weight': 23.0, 'kin': 3}), (20, 15, {'weight': 19.0, 'kin': 3}), (20, 16, {'weight': 61.0, 'kin': 1}), (20, 17, {'weight': 40.0, 'kin': 3}), (20, 18, {'weight': 17.0, 'kin': 2}), (20, 19, {'weight': 35.0, 'kin': 3}), (20, 21, {'weight': 194.0, 'kin': 1}), (20, 22, {'weight': 1.0, 'kin': 3}), (20, 27, {'weight': 2.0, 'kin': 3}), (20, 28, {'weight': 1.0, 'kin': 3}), (20, 29, {'weight': 1.0, 'kin': 3}), (20, 30, {'weight': 1.0, 'kin': 3}), (20, 31, {'weight': 4.0, 'kin': 3}), (20, 34, {'weight': 1.0, 'kin': 3}), (20, 35, {'weight': 2.0, 'kin': 3}), (20, 37, {'weight': 2.0, 'kin': 3}), (20, 38, {'weight': 2.0, 'kin': 3}), (20, 41, {'weight': 1.0, 'kin': 3}), (20, 43, {'weight': 1.0, 'kin': 3}), (22, 10, {'weight': 12.0, 'kin': 3}), (22, 13, {'weight': 2.0, 'kin': 3}), (22, 23, {'weight': 292.0, 'kin': 2}), (22, 24, {'weight': 1.0, 'kin': 3}), (22, 25, {'weight': 1.0, 'kin': 3}), (22, 27, {'weight': 2.0, 'kin': 3}), (22, 31, {'weight': 1.0, 'kin': 3}), (22, 33, {'weight': 2.0, 'kin': 3}), (22, 34, {'weight': 120.0, 'kin': 3}), (22, 35, {'weight': 173.0, 'kin': 3}), (22, 36, {'weight': 84.0, 'kin': 3}), (22, 37, {'weight': 71.0, 'kin': 3}), (22, 38, {'weight': 158.0, 'kin': 3}), (22, 39, {'weight': 78.0, 'kin': 3}), (22, 40, {'weight': 70.0, 'kin': 2}), (22, 41, {'weight': 3.0, 'kin': 3}), (22, 43, {'weight': 349.0, 'kin': 2}), (22, 44, {'weight': 1.0, 'kin': 3}), (22, 45, {'weight': 1.0, 'kin': 3}), (23, 10, {'weight': 21.0, 'kin': 3}), (23, 24, {'weight': 1.0, 'kin': 3}), (23, 25, {'weight': 1.0, 'kin': 3}), (23, 27, {'weight': 2.0, 'kin': 3}), (23, 31, {'weight': 1.0, 'kin': 3}), (23, 34, {'weight': 117.0, 'kin': 2}), (23, 35, {'weight': 114.0, 'kin': 3}), (23, 36, {'weight': 67.0, 'kin': 2}), (23, 37, {'weight': 58.0, 'kin': 3}), (23, 38, {'weight': 140.0, 'kin': 2}), (23, 39, {'weight': 85.0, 'kin': 2}), (23, 40, {'weight': 46.0, 'kin': 1}), (23, 41, {'weight': 2.0, 'kin': 3}), (23, 43, {'weight': 277.0, 'kin': 1}), (23, 45, {'weight': 2.0, 'kin': 3}), (24, 10, {'weight': 1.0, 'kin': 3}), (24, 27, {'weight': 2.0, 'kin': 2}), (24, 31, {'weight': 5.0, 'kin': 3}), (24, 32, {'weight': 10.0, 'kin': 2}), (24, 33, {'weight': 29.0, 'kin': 2}), (24, 38, {'weight': 1.0, 'kin': 3}), (24, 39, {'weight': 1.0, 'kin': 3}), (24, 43, {'weight': 1.0, 'kin': 3}), (25, 3, {'weight': 3.0, 'kin': 3}), (25, 6, {'weight': 4.0, 'kin': 2}), (25, 7, {'weight': 4.0, 'kin': 3}), (25, 8, {'weight': 3.0, 'kin': 3}), (25, 13, {'weight': 1.0, 'kin': 3}), (25, 26, {'weight': 5.0, 'kin': 1}), (25, 27, {'weight': 49.0, 'kin': 1}), (25, 28, {'weight': 81.0, 'kin': 1}), (25, 29, {'weight': 98.0, 'kin': 2}), (25, 30, {'weight': 15.0, 'kin': 3}), (25, 31, {'weight': 57.0, 'kin': 3}), (25, 32, {'weight': 1.0, 'kin': 3}), (25, 33, {'weight': 23.0, 'kin': 3}), (25, 34, {'weight': 1.0, 'kin': 3}), (25, 35, {'weight': 4.0, 'kin': 3}), (25, 36, {'weight': 1.0, 'kin': 3}), (25, 37, {'weight': 7.0, 'kin': 3}), (25, 39, {'weight': 1.0, 'kin': 3}), (25, 41, {'weight': 65.0, 'kin': 3}), (25, 42, {'weight': 38.0, 'kin': 1}), (25, 44, {'weight': 2.0, 'kin': 2}), (25, 45, {'weight': 5.0, 'kin': 1}), (27, 4, {'weight': 9.0, 'kin': 3}), (27, 5, {'weight': 4.0, 'kin': 2}), (27, 7, {'weight': 5.0, 'kin': 3}), (27, 9, {'weight': 1.0, 'kin': 3}), (27, 10, {'weight': 2.0, 'kin': 3}), (27, 12, {'weight': 1.0, 'kin': 3}), (27, 13, {'weight': 2.0, 'kin': 3}), (27, 14, {'weight': 1.0, 'kin': 3}), (27, 16, {'weight': 1.0, 'kin': 3}), (27, 19, {'weight': 1.0, 'kin': 3}), (27, 21, {'weight': 2.0, 'kin': 3}), (27, 26, {'weight': 8.0, 'kin': 1}), (27, 28, {'weight': 2.0, 'kin': 1}), (27, 29, {'weight': 11.0, 'kin': 2}), (27, 30, {'weight': 5.0, 'kin': 3}), (27, 31, {'weight': 8.0, 'kin': 3}), (27, 32, {'weight': 1.0, 'kin': 3}), (27, 33, {'weight': 32.0, 'kin': 3}), (27, 34, {'weight': 5.0, 'kin': 3}), (27, 35, {'weight': 3.0, 'kin': 3}), (27, 36, {'weight': 2.0, 'kin': 3}), (27, 37, {'weight': 4.0, 'kin': 3}), (27, 39, {'weight': 2.0, 'kin': 3}), (27, 40, {'weight': 3.0, 'kin': 3}), (27, 41, {'weight': 42.0, 'kin': 3}), (27, 42, {'weight': 30.0, 'kin': 1}), (27, 43, {'weight': 2.0, 'kin': 3}), (27, 44, {'weight': 5.0, 'kin': 2}), (27, 45, {'weight': 4.0, 'kin': 2}), (31, 3, {'weight': 8.0, 'kin': 2}), (31, 4, {'weight': 15.0, 'kin': 3}), (31, 5, {'weight': 13.0, 'kin': 3}), (31, 7, {'weight': 8.0, 'kin': 1}), (31, 10, {'weight': 3.0, 'kin': 3}), (31, 13, {'weight': 2.0, 'kin': 3}), (31, 16, {'weight': 1.0, 'kin': 3}), (31, 26, {'weight': 8.0, 'kin': 3}), (31, 28, {'weight': 54.0, 'kin': 2}), (31, 29, {'weight': 73.0, 'kin': 1}), (31, 30, {'weight': 64.0, 'kin': 1}), (31, 32, {'weight': 26.0, 'kin': 1}), (31, 33, {'weight': 114.0, 'kin': 1}), (31, 34, {'weight': 1.0, 'kin': 3}), (31, 35, {'weight': 1.0, 'kin': 3}), (31, 36, {'weight': 6.0, 'kin': 3}), (31, 37, {'weight': 7.0, 'kin': 3}), (31, 38, {'weight': 1.0, 'kin': 2}), (31, 41, {'weight': 10.0, 'kin': 3}), (31, 42, {'weight': 4.0, 'kin': 3}), (31, 44, {'weight': 1.0, 'kin': 3}), (31, 45, {'weight': 2.0, 'kin': 3}), (32, 28, {'weight': 4.0, 'kin': 2}), (32, 29, {'weight': 2.0, 'kin': 1}), (32, 33, {'weight': 47.0, 'kin': 1}), (33, 4, {'weight': 8.0, 'kin': 2}), (33, 5, {'weight': 2.0, 'kin': 3}), (33, 7, {'weight': 6.0, 'kin': 2}), (33, 10, {'weight': 10.0, 'kin': 3}), (33, 26, {'weight': 7.0, 'kin': 3}), (33, 28, {'weight': 21.0, 'kin': 2}), (33, 29, {'weight': 24.0, 'kin': 1}), (33, 30, {'weight': 11.0, 'kin': 1}), (33, 34, {'weight': 4.0, 'kin': 3}), (33, 36, {'weight': 1.0, 'kin': 3}), (33, 37, {'weight': 1.0, 'kin': 3}), (33, 41, {'weight': 21.0, 'kin': 3}), (33, 42, {'weight': 2.0, 'kin': 3}), (33, 43, {'weight': 1.0, 'kin': 3}), (35, 10, {'weight': 121.0, 'kin': 3}), (35, 13, {'weight': 3.0, 'kin': 3}), (35, 16, {'weight': 2.0, 'kin': 3}), (35, 34, {'weight': 362.0, 'kin': 3}), (35, 36, {'weight': 286.0, 'kin': 3}), (35, 37, {'weight': 189.0, 'kin': 3}), (35, 38, {'weight': 72.0, 'kin': 2}), (35, 39, {'weight': 296.0, 'kin': 3}), (35, 40, {'weight': 25.0, 'kin': 3}), (35, 41, {'weight': 6.0, 'kin': 3}), (35, 43, {'weight': 135.0, 'kin': 3}), (35, 44, {'weight': 1.0, 'kin': 3}), (36, 3, {'weight': 3.0, 'kin': 3}), (36, 4, {'weight': 7.0, 'kin': 3}), (36, 6, {'weight': 1.0, 'kin': 3}), (36, 7, {'weight': 3.0, 'kin': 3}), (36, 10, {'weight': 53.0, 'kin': 3}), (36, 13, {'weight': 1.0, 'kin': 3}), (36, 26, {'weight': 2.0, 'kin': 3}), (36, 28, {'weight': 6.0, 'kin': 3}), (36, 29, {'weight': 8.0, 'kin': 3}), (36, 30, {'weight': 7.0, 'kin': 3}), (36, 34, {'weight': 300.0, 'kin': 1}), (36, 37, {'weight': 207.0, 'kin': 1}), (36, 38, {'weight': 34.0, 'kin': 2}), (36, 39, {'weight': 337.0, 'kin': 1}), (36, 40, {'weight': 9.0, 'kin': 2}), (36, 41, {'weight': 34.0, 'kin': 2}), (36, 43, {'weight': 90.0, 'kin': 2}), (37, 3, {'weight': 2.0, 'kin': 3}), (37, 4, {'weight': 12.0, 'kin': 3}), (37, 7, {'weight': 2.0, 'kin': 3}), (37, 10, {'weight': 45.0, 'kin': 3}), (37, 12, {'weight': 3.0, 'kin': 3}), (37, 14, {'weight': 2.0, 'kin': 3}), (37, 15, {'weight': 2.0, 'kin': 2}), (37, 16, {'weight': 1.0, 'kin': 3}), (37, 21, {'weight': 3.0, 'kin': 3}), (37, 26, {'weight': 2.0, 'kin': 3}), (37, 28, {'weight': 6.0, 'kin': 3}), (37, 29, {'weight': 4.0, 'kin': 3}), (37, 30, {'weight': 8.0, 'kin': 3}), (37, 34, {'weight': 195.0, 'kin': 1}), (37, 38, {'weight': 45.0, 'kin': 3}), (37, 39, {'weight': 198.0, 'kin': 1}), (37, 40, {'weight': 6.0, 'kin': 3}), (37, 41, {'weight': 25.0, 'kin': 2}), (37, 42, {'weight': 6.0, 'kin': 3}), (37, 43, {'weight': 64.0, 'kin': 3}), (37, 45, {'weight': 1.0, 'kin': 3}), (38, 3, {'weight': 1.0, 'kin': 3}), (38, 4, {'weight': 1.0, 'kin': 2}), (38, 5, {'weight': 1.0, 'kin': 3}), (38, 6, {'weight': 1.0, 'kin': 3}), (38, 8, {'weight': 1.0, 'kin': 3}), (38, 10, {'weight': 17.0, 'kin': 3}), (38, 13, {'weight': 2.0, 'kin': 3}), (38, 16, {'weight': 1.0, 'kin': 3}), (38, 34, {'weight': 74.0, 'kin': 2}), (38, 39, {'weight': 52.0, 'kin': 2}), (38, 40, {'weight': 140.0, 'kin': 2}), (38, 41, {'weight': 1.0, 'kin': 3}), (38, 43, {'weight': 169.0, 'kin': 2}), (41, 9, {'weight': 1.0, 'kin': 3}), (41, 10, {'weight': 2.0, 'kin': 3}), (41, 12, {'weight': 1.0, 'kin': 3}), (41, 13, {'weight': 1.0, 'kin': 3}), (41, 14, {'weight': 1.0, 'kin': 3}), (41, 15, {'weight': 1.0, 'kin': 2}), (41, 16, {'weight': 2.0, 'kin': 3}), (41, 19, {'weight': 1.0, 'kin': 3}), (41, 28, {'weight': 15.0, 'kin': 3}), (41, 29, {'weight': 13.0, 'kin': 3}), (41, 34, {'weight': 8.0, 'kin': 2}), (41, 39, {'weight': 23.0, 'kin': 2}), (41, 42, {'weight': 146.0, 'kin': 3}), (41, 43, {'weight': 1.0, 'kin': 3}), (43, 10, {'weight': 8.0, 'kin': 3}), (43, 13, {'weight': 2.0, 'kin': 3}), (43, 16, {'weight': 1.0, 'kin': 3}), (43, 30, {'weight': 1.0, 'kin': 3}), (43, 34, {'weight': 131.0, 'kin': 2}), (43, 39, {'weight': 97.0, 'kin': 2}), (43, 40, {'weight': 62.0, 'kin': 1}), (43, 44, {'weight': 1.0, 'kin': 3}), (43, 45, {'weight': 1.0, 'kin': 3}), (45, 3, {'weight': 1.0, 'kin': 3}), (45, 6, {'weight': 128.0, 'kin': 2}), (45, 8, {'weight': 113.0, 'kin': 3}), (45, 44, {'weight': 188.0, 'kin': 1}), (13, 9, {'weight': 17.0, 'kin': 3}), (13, 10, {'weight': 5.0, 'kin': 3}), (13, 12, {'weight': 32.0, 'kin': 3}), (13, 14, {'weight': 33.0, 'kin': 2}), (13, 15, {'weight': 17.0, 'kin': 2}), (13, 16, {'weight': 82.0, 'kin': 3}), (13, 17, {'weight': 66.0, 'kin': 3}), (13, 18, {'weight': 21.0, 'kin': 3}), (13, 19, {'weight': 60.0, 'kin': 3}), (13, 21, {'weight': 158.0, 'kin': 3}), (13, 28, {'weight': 3.0, 'kin': 3}), (13, 29, {'weight': 3.0, 'kin': 3}), (13, 30, {'weight': 2.0, 'kin': 3}), (13, 39, {'weight': 1.0, 'kin': 3}), (42, 9, {'weight': 1.0, 'kin': 3}), (42, 12, {'weight': 1.0, 'kin': 3}), (42, 14, {'weight': 1.0, 'kin': 3}), (42, 21, {'weight': 1.0, 'kin': 3}), (42, 28, {'weight': 57.0, 'kin': 1}), (42, 29, {'weight': 53.0, 'kin': 2}), (42, 30, {'weight': 4.0, 'kin': 3}), (44, 3, {'weight': 1.0, 'kin': 3}), (44, 6, {'weight': 89.0, 'kin': 2}), (44, 8, {'weight': 107.0, 'kin': 3}), (44, 29, {'weight': 1.0, 'kin': 3}), (44, 30, {'weight': 1.0, 'kin': 3}), (44, 34, {'weight': 1.0, 'kin': 3}), (44, 39, {'weight': 1.0, 'kin': 3}), (3, 4, {'weight': 4.0, 'kin': 3}), (3, 5, {'weight': 4.0, 'kin': 3}), (3, 6, {'weight': 8.0, 'kin': 3}), (3, 7, {'weight': 82.0, 'kin': 2}), (3, 8, {'weight': 6.0, 'kin': 3}), (3, 26, {'weight': 143.0, 'kin': 3}), (3, 28, {'weight': 21.0, 'kin': 3}), (3, 29, {'weight': 18.0, 'kin': 3}), (3, 30, {'weight': 15.0, 'kin': 3}), (3, 47, {'weight': 1.0, 'kin': 3}), (3, 48, {'weight': 1.0, 'kin': 3}), (4, 5, {'weight': 46.0, 'kin': 2}), (4, 6, {'weight': 27.0, 'kin': 2}), (4, 7, {'weight': 30.0, 'kin': 3}), (4, 8, {'weight': 3.0, 'kin': 2}), (4, 26, {'weight': 18.0, 'kin': 3}), (4, 28, {'weight': 9.0, 'kin': 3}), (4, 29, {'weight': 11.0, 'kin': 2}), (4, 30, {'weight': 11.0, 'kin': 2}), (4, 40, {'weight': 1.0, 'kin': 3}), (6, 5, {'weight': 53.0, 'kin': 1}), (6, 7, {'weight': 2.0, 'kin': 3}), (6, 8, {'weight': 184.0, 'kin': 2}), (6, 26, {'weight': 8.0, 'kin': 2}), (6, 28, {'weight': 1.0, 'kin': 2}), (6, 30, {'weight': 1.0, 'kin': 2}), (6, 46, {'weight': 1.0, 'kin': 2}), (7, 5, {'weight': 7.0, 'kin': 3}), (7, 8, {'weight': 3.0, 'kin': 3}), (7, 26, {'weight': 190.0, 'kin': 3}), (7, 28, {'weight': 7.0, 'kin': 3}), (7, 29, {'weight': 7.0, 'kin': 2}), (7, 30, {'weight': 14.0, 'kin': 2}), (8, 5, {'weight': 24.0, 'kin': 3}), (8, 26, {'weight': 3.0, 'kin': 3}), (8, 28, {'weight': 1.0, 'kin': 3}), (15, 9, {'weight': 17.0, 'kin': 3}), (15, 12, {'weight': 23.0, 'kin': 3}), (15, 14, {'weight': 24.0, 'kin': 2}), (15, 16, {'weight': 18.0, 'kin': 3}), (15, 17, {'weight': 2.0, 'kin': 3}), (15, 19, {'weight': 22.0, 'kin': 3}), (15, 21, {'weight': 28.0, 'kin': 3}), (15, 28, {'weight': 1.0, 'kin': 3}), (15, 30, {'weight': 1.0, 'kin': 3}), (16, 9, {'weight': 18.0, 'kin': 3}), (16, 10, {'weight': 31.0, 'kin': 3}), (16, 12, {'weight': 22.0, 'kin': 3}), (16, 14, {'weight': 35.0, 'kin': 3}), (16, 17, {'weight': 204.0, 'kin': 3}), (16, 18, {'weight': 114.0, 'kin': 1}), (16, 19, {'weight': 71.0, 'kin': 2}), (16, 21, {'weight': 46.0, 'kin': 1}), (16, 30, {'weight': 1.0, 'kin': 3}), (16, 34, {'weight': 2.0, 'kin': 3}), (21, 9, {'weight': 17.0, 'kin': 3}), (21, 10, {'weight': 1.0, 'kin': 3}), (21, 12, {'weight': 151.0, 'kin': 3}), (21, 14, {'weight': 108.0, 'kin': 3}), (21, 17, {'weight': 23.0, 'kin': 3}), (21, 18, {'weight': 4.0, 'kin': 2}), (21, 19, {'weight': 37.0, 'kin': 3}), (21, 30, {'weight': 2.0, 'kin': 3}), (26, 5, {'weight': 10.0, 'kin': 2}), (26, 28, {'weight': 19.0, 'kin': 1}), (26, 29, {'weight': 14.0, 'kin': 2}), (26, 30, {'weight': 13.0, 'kin': 3}), (28, 5, {'weight': 12.0, 'kin': 2}), (28, 10, {'weight': 2.0, 'kin': 3}), (28, 17, {'weight': 1.0, 'kin': 3}), (28, 29, {'weight': 333.0, 'kin': 1}), (28, 30, {'weight': 16.0, 'kin': 2}), (28, 39, {'weight': 1.0, 'kin': 3}), (28, 46, {'weight': 1.0, 'kin': 3}), (29, 5, {'weight': 11.0, 'kin': 3}), (29, 10, {'weight': 2.0, 'kin': 3}), (29, 30, {'weight': 19.0, 'kin': 1}), (29, 39, {'weight': 2.0, 'kin': 3}), (29, 46, {'weight': 1.0, 'kin': 2}), (30, 5, {'weight': 2.0, 'kin': 2}), (30, 9, {'weight': 1.0, 'kin': 3}), (30, 12, {'weight': 1.0, 'kin': 3}), (30, 14, {'weight': 1.0, 'kin': 3}), (30, 19, {'weight': 1.0, 'kin': 3}), (46, 47, {'weight': 57.0, 'kin': 1}), (46, 48, {'weight': 39.0, 'kin': 2}), (47, 48, {'weight': 307.0, 'kin': 1}), (47, 52, {'weight': 1.0, 'kin': 3}), (48, 52, {'weight': 1.0, 'kin': 3}), (40, 10, {'weight': 5.0, 'kin': 3}), (40, 34, {'weight': 19.0, 'kin': 2}), (40, 39, {'weight': 9.0, 'kin': 2}), (9, 12, {'weight': 17.0, 'kin': 3}), (9, 14, {'weight': 17.0, 'kin': 3}), (9, 18, {'weight': 2.0, 'kin': 2}), (9, 19, {'weight': 17.0, 'kin': 3}), (12, 14, {'weight': 139.0, 'kin': 1}), (12, 17, {'weight': 1.0, 'kin': 3}), (12, 18, {'weight': 4.0, 'kin': 3}), (12, 19, {'weight': 22.0, 'kin': 3}), (14, 10, {'weight': 19.0, 'kin': 3}), (14, 17, {'weight': 11.0, 'kin': 3}), (14, 18, {'weight': 31.0, 'kin': 3}), (14, 19, {'weight': 26.0, 'kin': 3}), (18, 10, {'weight': 13.0, 'kin': 3}), (18, 17, {'weight': 99.0, 'kin': 1}), (18, 19, {'weight': 6.0, 'kin': 2}), (19, 10, {'weight': 1.0, 'kin': 3}), (19, 17, {'weight': 46.0, 'kin': 2}), (10, 17, {'weight': 15.0, 'kin': 3}), (10, 34, {'weight': 80.0, 'kin': 3}), (10, 39, {'weight': 32.0, 'kin': 3}), (34, 39, {'weight': 307.0, 'kin': 1}), (52, 49, {'weight': 288.0, 'kin': 1}), (52, 50, {'weight': 285.0, 'kin': 1}), (52, 51, {'weight': 298.0, 'kin': 1}), (49, 50, {'weight': 395.0, 'kin': 1}), (49, 51, {'weight': 393.0, 'kin': 1}), (50, 51, {'weight': 392.0, 'kin': 1})])"
     },
     "execution_count": 21,
     "metadata": {},
     "output_type": "execute_result"
    }
   ],
   "source": [
    "G.edges(data=True) # now edges in G have attribute weight and kin"
   ],
   "metadata": {
    "collapsed": false
   }
  },
  {
   "cell_type": "markdown",
   "source": [
    "Now we create a weighted network only with close kin (kin=1)"
   ],
   "metadata": {
    "collapsed": false
   }
  },
  {
   "cell_type": "code",
   "execution_count": 22,
   "outputs": [],
   "source": [
    "G_closekin = nx.Graph() # creates a new empty network\n",
    "for i, j in G.edges:\n",
    "    if G[i][j]['kin'] == 1: # if (i, j) dyad in G is kin = 1\n",
    "        G_closekin.add_edge(i, j) # add that edge to new network\n",
    "        G_closekin[i][j]['weight'] = G[i][j]['weight'] # add weight from G to new network, dict"
   ],
   "metadata": {
    "collapsed": false
   }
  },
  {
   "cell_type": "code",
   "execution_count": 23,
   "outputs": [
    {
     "data": {
      "text/plain": "EdgeDataView([(0, 1, {'weight': 269.0}), (1, 24, {'weight': 107.0}), (2, 3, {'weight': 6.0}), (2, 7, {'weight': 7.0}), (2, 31, {'weight': 35.0}), (7, 31, {'weight': 8.0}), (31, 29, {'weight': 73.0}), (31, 30, {'weight': 64.0}), (31, 32, {'weight': 26.0}), (31, 33, {'weight': 114.0}), (11, 10, {'weight': 121.0}), (20, 16, {'weight': 61.0}), (20, 21, {'weight': 194.0}), (16, 18, {'weight': 114.0}), (16, 21, {'weight': 46.0}), (23, 40, {'weight': 46.0}), (23, 43, {'weight': 277.0}), (40, 43, {'weight': 62.0}), (25, 26, {'weight': 5.0}), (25, 27, {'weight': 49.0}), (25, 28, {'weight': 81.0}), (25, 42, {'weight': 38.0}), (25, 45, {'weight': 5.0}), (26, 27, {'weight': 8.0}), (26, 28, {'weight': 19.0}), (27, 28, {'weight': 2.0}), (27, 42, {'weight': 30.0}), (28, 42, {'weight': 57.0}), (28, 29, {'weight': 333.0}), (45, 44, {'weight': 188.0}), (29, 32, {'weight': 2.0}), (29, 33, {'weight': 24.0}), (29, 30, {'weight': 19.0}), (30, 33, {'weight': 11.0}), (32, 33, {'weight': 47.0}), (36, 34, {'weight': 300.0}), (36, 37, {'weight': 207.0}), (36, 39, {'weight': 337.0}), (34, 37, {'weight': 195.0}), (34, 39, {'weight': 307.0}), (37, 39, {'weight': 198.0}), (6, 5, {'weight': 53.0}), (18, 17, {'weight': 99.0}), (46, 47, {'weight': 57.0}), (47, 48, {'weight': 307.0}), (12, 14, {'weight': 139.0}), (52, 49, {'weight': 288.0}), (52, 50, {'weight': 285.0}), (52, 51, {'weight': 298.0}), (49, 50, {'weight': 395.0}), (49, 51, {'weight': 393.0}), (50, 51, {'weight': 392.0})])"
     },
     "execution_count": 23,
     "metadata": {},
     "output_type": "execute_result"
    }
   ],
   "source": [
    "G_closekin.edges(data=True)"
   ],
   "metadata": {
    "collapsed": false
   }
  },
  {
   "cell_type": "code",
   "execution_count": 24,
   "outputs": [
    {
     "name": "stdout",
     "output_type": "stream",
     "text": [
      "53 43\n"
     ]
    }
   ],
   "source": [
    "print(len(G), len(G_closekin)) #size of close kin network is smaller"
   ],
   "metadata": {
    "collapsed": false
   }
  },
  {
   "cell_type": "code",
   "execution_count": 25,
   "outputs": [
    {
     "name": "stdout",
     "output_type": "stream",
     "text": [
      "477 43\n"
     ]
    }
   ],
   "source": [
    "print(len(G.edges), len(G_closekin))"
   ],
   "metadata": {
    "collapsed": false
   }
  },
  {
   "cell_type": "markdown",
   "source": [
    "We add the missing 10 nodes from G so that they can be found in G_closekin, but as isolates (no edges) since they have no close kin"
   ],
   "metadata": {
    "collapsed": false
   }
  },
  {
   "cell_type": "code",
   "execution_count": 26,
   "outputs": [],
   "source": [
    "for node in G:\n",
    "    if node not in G_closekin:\n",
    "        G_closekin.add_node(node)"
   ],
   "metadata": {
    "collapsed": false
   }
  },
  {
   "cell_type": "code",
   "execution_count": 27,
   "outputs": [
    {
     "name": "stdout",
     "output_type": "stream",
     "text": [
      "53 53\n"
     ]
    }
   ],
   "source": [
    "print(len(G), len(G_closekin))"
   ],
   "metadata": {
    "collapsed": false
   }
  },
  {
   "cell_type": "markdown",
   "source": [
    "<p> Now we start a selection of pairs<br>\n",
    "We want to select a G node, then select one from all its possible neighbours, taking into account edge weights (= the strength of social bond between node and neighbour)<br>\n",
    "As a result, every node will have a partner in a round"
   ],
   "metadata": {
    "collapsed": false
   }
  },
  {
   "cell_type": "code",
   "execution_count": 28,
   "outputs": [
    {
     "name": "stdout",
     "output_type": "stream",
     "text": [
      "34 35\n",
      "19 14\n",
      "50 52\n",
      "22 23\n",
      "31 29\n",
      "38 11\n",
      "51 49\n",
      "39 36\n",
      "6 8\n",
      "37 35\n",
      "30 31\n",
      "48 47\n",
      "2 30\n",
      "3 4\n",
      "45 8\n",
      "41 2\n",
      "47 48\n",
      "28 25\n",
      "52 50\n",
      "24 33\n",
      "18 14\n",
      "11 35\n",
      "12 14\n",
      "13 20\n",
      "5 31\n",
      "25 29\n",
      "36 43\n",
      "46 47\n",
      "40 22\n",
      "35 23\n",
      "42 2\n",
      "10 11\n",
      "20 21\n",
      "4 6\n",
      "7 26\n",
      "16 18\n",
      "23 43\n",
      "43 38\n",
      "15 12\n",
      "33 32\n",
      "29 28\n",
      "9 21\n",
      "0 2\n",
      "32 33\n",
      "27 44\n",
      "8 6\n",
      "1 0\n",
      "44 45\n",
      "21 16\n",
      "17 18\n",
      "26 3\n",
      "49 52\n",
      "14 17\n"
     ]
    }
   ],
   "source": [
    "# purpose of this loop is to show how to select one neighbour in one round\n",
    "rounds = 1\n",
    "for x in range(rounds):\n",
    "    global node, selected_neighbour\n",
    "    random_node_list = rd.sample(range(len(G)), len(G)) # select G nodes in random order\n",
    "    for node in random_node_list: # for each node in random list\n",
    "        neighbour_list = []\n",
    "        # neighbours weight makes them more probable to be chosen\n",
    "        for neighbour in G[node]: # G[node] = all neighbours of node\n",
    "            for times in range(int(G[node][neighbour]['weight'])): # counts weight x of a link\n",
    "                neighbour_list.append(neighbour) # and adds that neighbour x times to neighbour_list\n",
    "        selected_neighbour = rd.choice(neighbour_list) # then selects one neighbour from the list\n",
    "        print(node, selected_neighbour) # print each node neighbour pair"
   ],
   "metadata": {
    "collapsed": false
   }
  },
  {
   "cell_type": "markdown",
   "source": [
    "Next we give a set of basic medicinal drugs to each node. <br>\n",
    "We do it by creating an  <i><b>incidence matrix </b></i> with rows = nodes, columns = medicines <br >\n",
    "Matrix starts with 6 basic drugs, and columns for innovations (new drugs)"
   ],
   "metadata": {
    "collapsed": false
   }
  },
  {
   "cell_type": "code",
   "execution_count": 29,
   "outputs": [
    {
     "data": {
      "text/plain": "[[0, 0, 0, 0, 0, 0, -1, -1, -1, -1, -1, -1, -1, -1],\n [0, 0, 0, 0, 0, 0, -1, -1, -1, -1, -1, -1, -1, -1],\n [0, 0, 0, 0, 0, 0, -1, -1, -1, -1, -1, -1, -1, -1],\n [0, 0, 0, 0, 0, 0, -1, -1, -1, -1, -1, -1, -1, -1],\n [0, 0, 0, 0, 0, 0, -1, -1, -1, -1, -1, -1, -1, -1],\n [0, 0, 0, 0, 0, 0, -1, -1, -1, -1, -1, -1, -1, -1],\n [0, 0, 0, 0, 0, 0, -1, -1, -1, -1, -1, -1, -1, -1],\n [0, 0, 0, 0, 0, 0, -1, -1, -1, -1, -1, -1, -1, -1],\n [0, 0, 0, 0, 0, 0, -1, -1, -1, -1, -1, -1, -1, -1],\n [0, 0, 0, 0, 0, 0, -1, -1, -1, -1, -1, -1, -1, -1],\n [0, 0, 0, 0, 0, 0, -1, -1, -1, -1, -1, -1, -1, -1],\n [0, 0, 0, 0, 0, 0, -1, -1, -1, -1, -1, -1, -1, -1],\n [0, 0, 0, 0, 0, 0, -1, -1, -1, -1, -1, -1, -1, -1],\n [0, 0, 0, 0, 0, 0, -1, -1, -1, -1, -1, -1, -1, -1],\n [0, 0, 0, 0, 0, 0, -1, -1, -1, -1, -1, -1, -1, -1],\n [0, 0, 0, 0, 0, 0, -1, -1, -1, -1, -1, -1, -1, -1],\n [0, 0, 0, 0, 0, 0, -1, -1, -1, -1, -1, -1, -1, -1],\n [0, 0, 0, 0, 0, 0, -1, -1, -1, -1, -1, -1, -1, -1],\n [0, 0, 0, 0, 0, 0, -1, -1, -1, -1, -1, -1, -1, -1],\n [0, 0, 0, 0, 0, 0, -1, -1, -1, -1, -1, -1, -1, -1],\n [0, 0, 0, 0, 0, 0, -1, -1, -1, -1, -1, -1, -1, -1],\n [0, 0, 0, 0, 0, 0, -1, -1, -1, -1, -1, -1, -1, -1],\n [0, 0, 0, 0, 0, 0, -1, -1, -1, -1, -1, -1, -1, -1],\n [0, 0, 0, 0, 0, 0, -1, -1, -1, -1, -1, -1, -1, -1],\n [0, 0, 0, 0, 0, 0, -1, -1, -1, -1, -1, -1, -1, -1],\n [0, 0, 0, 0, 0, 0, -1, -1, -1, -1, -1, -1, -1, -1],\n [0, 0, 0, 0, 0, 0, -1, -1, -1, -1, -1, -1, -1, -1],\n [0, 0, 0, 0, 0, 0, -1, -1, -1, -1, -1, -1, -1, -1],\n [0, 0, 0, 0, 0, 0, -1, -1, -1, -1, -1, -1, -1, -1],\n [0, 0, 0, 0, 0, 0, -1, -1, -1, -1, -1, -1, -1, -1],\n [0, 0, 0, 0, 0, 0, -1, -1, -1, -1, -1, -1, -1, -1],\n [0, 0, 0, 0, 0, 0, -1, -1, -1, -1, -1, -1, -1, -1],\n [0, 0, 0, 0, 0, 0, -1, -1, -1, -1, -1, -1, -1, -1],\n [0, 0, 0, 0, 0, 0, -1, -1, -1, -1, -1, -1, -1, -1],\n [0, 0, 0, 0, 0, 0, -1, -1, -1, -1, -1, -1, -1, -1],\n [0, 0, 0, 0, 0, 0, -1, -1, -1, -1, -1, -1, -1, -1],\n [0, 0, 0, 0, 0, 0, -1, -1, -1, -1, -1, -1, -1, -1],\n [0, 0, 0, 0, 0, 0, -1, -1, -1, -1, -1, -1, -1, -1],\n [0, 0, 0, 0, 0, 0, -1, -1, -1, -1, -1, -1, -1, -1],\n [0, 0, 0, 0, 0, 0, -1, -1, -1, -1, -1, -1, -1, -1],\n [0, 0, 0, 0, 0, 0, -1, -1, -1, -1, -1, -1, -1, -1],\n [0, 0, 0, 0, 0, 0, -1, -1, -1, -1, -1, -1, -1, -1],\n [0, 0, 0, 0, 0, 0, -1, -1, -1, -1, -1, -1, -1, -1],\n [0, 0, 0, 0, 0, 0, -1, -1, -1, -1, -1, -1, -1, -1],\n [0, 0, 0, 0, 0, 0, -1, -1, -1, -1, -1, -1, -1, -1],\n [0, 0, 0, 0, 0, 0, -1, -1, -1, -1, -1, -1, -1, -1],\n [0, 0, 0, 0, 0, 0, -1, -1, -1, -1, -1, -1, -1, -1],\n [0, 0, 0, 0, 0, 0, -1, -1, -1, -1, -1, -1, -1, -1],\n [0, 0, 0, 0, 0, 0, -1, -1, -1, -1, -1, -1, -1, -1],\n [0, 0, 0, 0, 0, 0, -1, -1, -1, -1, -1, -1, -1, -1],\n [0, 0, 0, 0, 0, 0, -1, -1, -1, -1, -1, -1, -1, -1],\n [0, 0, 0, 0, 0, 0, -1, -1, -1, -1, -1, -1, -1, -1],\n [0, 0, 0, 0, 0, 0, -1, -1, -1, -1, -1, -1, -1, -1]]"
     },
     "execution_count": 29,
     "metadata": {},
     "output_type": "execute_result"
    }
   ],
   "source": [
    "# number of rows (individuals) is the size of G\n",
    "# each column (tool or drug) is present (0) or absent (-1); we start with 6 0s and 8 -1s\n",
    "matrix_node_tools=[[0]*6 + [-1]*8 for i in range(len(G))]\n",
    "matrix_node_tools"
   ],
   "metadata": {
    "collapsed": false
   }
  },
  {
   "cell_type": "markdown",
   "source": [
    "Each medicine has a fitness or medicinal value, so let us choose some arbitrarily increasing values"
   ],
   "metadata": {
    "collapsed": false
   }
  },
  {
   "cell_type": "code",
   "execution_count": 30,
   "outputs": [],
   "source": [
    "fitness_values = [6, 8, 10, 6, 8, 10, 30, 30, 60, 60, 120, 120, 300, 300] # each column has a value"
   ],
   "metadata": {
    "collapsed": false
   }
  },
  {
   "cell_type": "markdown",
   "source": [
    "Next we create a <i><b>dictionary</i></b> with the special combinations of 3 drugs that generate a superior drug. <br>\n",
    "Notice that there are two lineages: in lineage A, triad (0, 1, 2) creates drug 6 (A1), which is needed for drug 8 or A2 = (0, 4, 6), which is needed for drug 10. <br>\n",
    "Therefore lineage A is A1 = 6, A2 = 8, A3 = 10. <br>\n",
    "Lineage B will be B1 = 7, B2 = 9, B3 = 11. <br>\n",
    "The superdrugs C are a combination of A3 and B3, with two options: superdrug 12 = (A2, A3, B3), or superdrug 13 = (B2, B3, A3) <br>\n",
    "(to avoid privileging A or B)"
   ],
   "metadata": {
    "collapsed": false
   }
  },
  {
   "cell_type": "code",
   "execution_count": 31,
   "outputs": [],
   "source": [
    "innovations_dict = {(0, 1, 2): 6, # A1 # 0, 1, 2 will create innovation 6\n",
    "             (3, 4, 5): 7,        # B1\n",
    "             (0, 4, 6): 8,        # A2\n",
    "             (1, 2, 7): 9,        # B2\n",
    "             (4, 5, 8): 10,       # A3\n",
    "             (1, 3, 9): 11,       # B3\n",
    "             (8, 10, 11): 12,     # C1\n",
    "             (9, 10, 11): 13}     # C2"
   ],
   "metadata": {
    "collapsed": false
   }
  },
  {
   "cell_type": "markdown",
   "source": [
    "Now the pairs can start creating new drugs. First we create the lists of drugs of node and neighbour"
   ],
   "metadata": {
    "collapsed": false
   }
  },
  {
   "cell_type": "code",
   "execution_count": 32,
   "outputs": [
    {
     "name": "stdout",
     "output_type": "stream",
     "text": [
      "14\n",
      "[0, 0, 0, 0, 0, 0, -1, -1, -1, -1, -1, -1, -1, -1]\n",
      "[0 1 2 3 4 5]\n",
      "[0 1 2 3 4 5]\n"
     ]
    }
   ],
   "source": [
    "# ingredients of node are 0s in matrix, so we select for each node (row) column where value is > -1\n",
    "print(node) # this value is stored from a previous loop\n",
    "print(matrix_node_tools[node])\n",
    "ingredients_node= np.where(np.array(matrix_node_tools[node])>-1)[0] # must select element [0] to extract list of array\n",
    "print(ingredients_node)\n",
    "ingredients_neighbour=np.where(np.array(matrix_node_tools[selected_neighbour])>-1)[0]\n",
    "print(ingredients_neighbour)"
   ],
   "metadata": {
    "collapsed": false
   }
  },
  {
   "cell_type": "code",
   "execution_count": 33,
   "metadata": {},
   "outputs": [
    {
     "name": "stdout",
     "output_type": "stream",
     "text": [
      "4 2\n"
     ]
    }
   ],
   "source": [
    "node_tools=[] #weighted sampling with replacement\n",
    "for tool in ingredients_node:\n",
    "    for times in range(fitness_values[tool]):\n",
    "        node_tools.append(tool)\n",
    "node_tool_1, node_tool_2 = rd.sample(node_tools, 2)\n",
    "print(node_tool_1, node_tool_2)"
   ]
  },
  {
   "cell_type": "code",
   "execution_count": 34,
   "metadata": {},
   "outputs": [
    {
     "name": "stdout",
     "output_type": "stream",
     "text": [
      "4\n"
     ]
    }
   ],
   "source": [
    "neighbour_tools=[]\n",
    "for tool in ingredients_neighbour:\n",
    "    for times in range(fitness_values[tool]):\n",
    "        neighbour_tools.append(tool)\n",
    "neighbour_tool = rd.choice(neighbour_tools)\n",
    "print(neighbour_tool)"
   ]
  },
  {
   "cell_type": "code",
   "execution_count": 76,
   "metadata": {},
   "outputs": [
    {
     "name": "stdout",
     "output_type": "stream",
     "text": [
      "(0, 0, 3)\n",
      "-1\n"
     ]
    }
   ],
   "source": [
    "# test: how to combine the drugs in a triad and see if it generated a new drug\n",
    "triad = [node_tool_1, node_tool_2, neighbour_tool] # create triad\n",
    "triad = tuple(sorted(triad)) # sort order\n",
    "print(triad)\n",
    "new_tool = innovations_dict.get(triad, -1) #if triad is in dictionary, returns its key or ID (6, 7 etc), otherwise -1 or absent\n",
    "print(new_tool)\n"
   ]
  },
  {
   "cell_type": "markdown",
   "metadata": {},
   "source": [
    "Now we put the elements above together to run 10000 attempts until a new drug is created"
   ]
  },
  {
   "cell_type": "code",
   "execution_count": 105,
   "metadata": {},
   "outputs": [
    {
     "name": "stdout",
     "output_type": "stream",
     "text": [
      "6 1 9 15\n"
     ]
    }
   ],
   "source": [
    "rounds=10000 \n",
    "stop_sim=0 # simulation starts\n",
    "for round in range(rounds):\n",
    "    random_node_list = rd.sample(range(len(G)), len(G))\n",
    "    for node in random_node_list: # select pairs\n",
    "        neighbour_list = []\n",
    "        for neighbour in G[node]:\n",
    "            for times in range(int(G[node][neighbour]['weight'])):\n",
    "                neighbour_list.append(neighbour)\n",
    "        selected_neighbour = rd.choice(neighbour_list)\n",
    "        \n",
    "        ingredients_node=np.where(np.array(matrix_node_tools[node])>-1)[0] # take their current drugs\n",
    "        ingredients_neighbour=np.where(np.array(matrix_node_tools[selected_neighbour])>-1)[0]\n",
    "        \n",
    "        node_tools=[] # drugs chosen for triad\n",
    "        for tool in ingredients_node:\n",
    "            for times in range(fitness_values[tool]):\n",
    "                node_tools.append(tool)\n",
    "        node_tool_1, node_tool_2 = rd.sample(node_tools, 2)\n",
    "        \n",
    "        neighbour_tools=[]\n",
    "        for tool in ingredients_neighbour:\n",
    "            for times in range(fitness_values[tool]):\n",
    "                neighbour_tools.append(tool)\n",
    "        neighbour_tool = rd.choice(neighbour_tools)\n",
    "        \n",
    "        triad = [node_tool_1, node_tool_2, neighbour_tool] # tirad generates a new tool or nothing\n",
    "        triad = tuple(sorted(triad))\n",
    "        new_tool = innovations_dict.get(triad,-1) # if ke doesnt exists -1 is returned\n",
    "        \n",
    "        if new_tool > -1: # when a new tool is created, print which drug, round, and players\n",
    "            print(new_tool, round + 1, node, selected_neighbour)\n",
    "            stop_sim=1\n",
    "            break\n",
    "    if stop_sim==1: # then stop\n",
    "        break\n",
    "        \n",
    "        \n",
    "# NOTE: created tools may appear higher when this code is re-run, because matrix isn't reset    "
   ]
  },
  {
   "cell_type": "markdown",
   "metadata": {},
   "source": [
    "Now we will run a simulation where any new drugs are transmitted only to close kin"
   ]
  },
  {
   "cell_type": "code",
   "execution_count": 35,
   "metadata": {},
   "outputs": [
    {
     "name": "stdout",
     "output_type": "stream",
     "text": [
      "7 1 34 23\n",
      "9 1 36 39\n",
      "6 1 48 47\n",
      "6 1 2 42\n",
      "7 2 17 18\n",
      "7 3 44 45\n",
      "7 3 19 21\n",
      "7 3 32 33\n",
      "8 4 25 41\n",
      "10 4 6 45\n",
      "9 4 10 34\n",
      "7 5 50 49\n",
      "11 5 10 27\n",
      "9 6 29 42\n",
      "6 6 13 16\n",
      "9 6 51 49\n",
      "10 7 29 28\n",
      "7 7 28 2\n",
      "6 8 43 22\n",
      "10 8 41 38\n",
      "6 9 36 35\n",
      "13 9 11 38\n"
     ]
    }
   ],
   "source": [
    "rounds=10000\n",
    "stop_sim=0\n",
    "sim_duration = []\n",
    "for epoch in range(rounds):\n",
    "    random_node_list = rd.sample(range(len(G)), len(G))\n",
    "    for node in random_node_list:\n",
    "        neighbour_list = []\n",
    "        for neighbour in G[node]:\n",
    "            for times in range(int(G[node][neighbour]['weight'])):\n",
    "                neighbour_list.append(neighbour)\n",
    "        selected_neighbour = rd.choice(neighbour_list)\n",
    "       \n",
    "        ingredients_node=np.where(np.array(matrix_node_tools[node])>-1)[0] \n",
    "        ingredients_neighbour=np.where(np.array(matrix_node_tools[selected_neighbour])>-1)[0]\n",
    "        \n",
    "        node_tools=[]\n",
    "        for tool in ingredients_node:\n",
    "            for times in range(fitness_values[tool]):\n",
    "                node_tools.append(tool)\n",
    "        node_tool_1, node_tool_2 = rd.sample(node_tools, 2)\n",
    "        \n",
    "        neighbour_tools=[]\n",
    "        for tool in ingredients_neighbour:\n",
    "            for times in range(fitness_values[tool]):\n",
    "                neighbour_tools.append(tool)\n",
    "        neighbour_tool = rd.choice(neighbour_tools)\n",
    "  \n",
    "        triad = [node_tool_1, node_tool_2, neighbour_tool]\n",
    "        triad = tuple(sorted(triad))\n",
    "        new_tool = innovations_dict.get(triad,-1)\n",
    "        \n",
    "# until here, similar to above  \n",
    "        \n",
    "        if new_tool > -1: # if a new drug was created (6, 7 or 8 etc) \n",
    "            # check if node and neighbour already have invented tool \n",
    "            have_new_tool = -1 # we need this later\n",
    "            if matrix_node_tools[node][new_tool] == -1: # if position (i = node, j = new tool) in matrix is absent\n",
    "                have_new_tool = 1 \n",
    "                matrix_node_tools[node][new_tool] = epoch + 1 # node gains new tools, replace -1 with round of discovery\n",
    "                for node_kin in G_closekin[node]: # now use matrix G_closekin to identify all close kin of node \n",
    "                    matrix_node_tools[node_kin][new_tool] = epoch + 1 # tranmits new tool to all kin\n",
    "            \n",
    "            if matrix_node_tools[selected_neighbour][new_tool] == -1: #check if selected neighbour has tool\n",
    "                have_new_tool = 1 \n",
    "                matrix_node_tools[selected_neighbour][new_tool]= epoch + 1 # neighbours gains new tool\n",
    "                for neighbour_kin in G_closekin[selected_neighbour]:\n",
    "                    matrix_node_tools[neighbour_kin][new_tool] = epoch+ 1\n",
    "\n",
    "            if have_new_tool == 1: #if either node or neighbour received the new tool\n",
    "                print(new_tool, epoch + 1, node, selected_neighbour)\n",
    "                if new_tool in [12,13]: # BUT if the new tool is a superdrug C1=12 or C2=13\n",
    "                    stop_sim=1 # simulations ends\n",
    "                    \n",
    "        if stop_sim==1:\n",
    "            break\n",
    "    if stop_sim==1:\n",
    "        break"
   ]
  },
  {
   "cell_type": "markdown",
   "metadata": {},
   "source": [
    "We can examine matrix to see when drugs were discovered and who created the superdrug <br>\n",
    "(can you interpret it? Notice that drug created in last round may have been transmitted to kin before end of simulation)"
   ]
  },
  {
   "cell_type": "code",
   "execution_count": 107,
   "metadata": {},
   "outputs": [
    {
     "data": {
      "text/plain": [
       "[[0, 0, 0, 0, 0, 0, -1, 4, -1, 14, -1, 18, -1, -1],\n",
       " [0, 0, 0, 0, 0, 0, 20, 4, -1, 14, -1, 28, -1, -1],\n",
       " [0, 0, 0, 0, 0, 0, -1, 1, -1, 1, -1, 15, -1, -1],\n",
       " [0, 0, 0, 0, 0, 0, -1, 1, -1, 1, -1, 15, -1, -1],\n",
       " [0, 0, 0, 0, 0, 0, 1, -1, -1, 40, -1, 46, -1, -1],\n",
       " [0, 0, 0, 0, 0, 0, 1, 1, -1, 40, -1, 3, -1, -1],\n",
       " [0, 0, 0, 0, 0, 0, 1, 1, -1, 40, -1, 3, -1, -1],\n",
       " [0, 0, 0, 0, 0, 0, -1, -1, -1, 1, -1, 3, -1, -1],\n",
       " [0, 0, 0, 0, 0, 0, -1, 1, -1, 6, -1, 46, -1, -1],\n",
       " [0, 0, 0, 0, 0, 0, -1, 3, -1, 8, -1, 20, -1, 53],\n",
       " [0, 0, 0, 0, 0, 0, 9, 6, -1, 33, -1, -1, -1, -1],\n",
       " [0, 0, 0, 0, 0, 0, 9, 6, -1, 33, -1, -1, -1, -1],\n",
       " [0, 0, 0, 0, 0, 0, -1, 1, 12, 41, -1, -1, -1, -1],\n",
       " [0, 0, 0, 0, 0, 0, 7, -1, -1, -1, 44, -1, -1, 53],\n",
       " [0, 0, 0, 0, 0, 0, -1, 1, 12, 41, -1, -1, -1, -1],\n",
       " [0, 0, 0, 0, 0, 0, -1, 1, -1, 8, -1, 20, -1, -1],\n",
       " [0, 0, 0, 0, 0, 0, 7, 2, 12, 27, 44, -1, -1, -1],\n",
       " [0, 0, 0, 0, 0, 0, -1, -1, -1, -1, 27, -1, -1, -1],\n",
       " [0, 0, 0, 0, 0, 0, -1, -1, -1, -1, 27, -1, -1, -1],\n",
       " [0, 0, 0, 0, 0, 0, -1, 2, -1, 41, -1, -1, -1, -1],\n",
       " [0, 0, 0, 0, 0, 0, 7, 2, 12, 27, 44, -1, -1, -1],\n",
       " [0, 0, 0, 0, 0, 0, 7, 2, 12, 27, 44, -1, -1, -1],\n",
       " [0, 0, 0, 0, 0, 0, -1, -1, 19, -1, -1, -1, -1, -1],\n",
       " [0, 0, 0, 0, 0, 0, 9, -1, 19, -1, 23, -1, -1, -1],\n",
       " [0, 0, 0, 0, 0, 0, 20, -1, -1, 14, -1, 28, -1, -1],\n",
       " [0, 0, 0, 0, 0, 0, 5, -1, -1, 6, -1, 10, -1, -1],\n",
       " [0, 0, 0, 0, 0, 0, -1, -1, -1, 1, -1, 10, -1, -1],\n",
       " [0, 0, 0, 0, 0, 0, 5, -1, -1, 1, -1, 10, -1, -1],\n",
       " [0, 0, 0, 0, 0, 0, 5, -1, -1, 1, -1, 10, -1, -1],\n",
       " [0, 0, 0, 0, 0, 0, 20, -1, -1, 1, -1, 11, -1, -1],\n",
       " [0, 0, 0, 0, 0, 0, 20, -1, -1, 1, -1, -1, -1, -1],\n",
       " [0, 0, 0, 0, 0, 0, 20, -1, -1, 1, -1, 11, -1, -1],\n",
       " [0, 0, 0, 0, 0, 0, 20, -1, -1, 1, -1, 11, -1, -1],\n",
       " [0, 0, 0, 0, 0, 0, 20, -1, -1, 1, -1, 11, -1, -1],\n",
       " [0, 0, 0, 0, 0, 0, -1, 1, -1, 5, -1, -1, -1, -1],\n",
       " [0, 0, 0, 0, 0, 0, -1, 14, -1, 33, -1, -1, -1, -1],\n",
       " [0, 0, 0, 0, 0, 0, -1, 1, -1, 5, -1, -1, -1, -1],\n",
       " [0, 0, 0, 0, 0, 0, -1, 1, -1, 5, -1, -1, -1, -1],\n",
       " [0, 0, 0, 0, 0, 0, -1, 6, -1, 49, -1, -1, -1, -1],\n",
       " [0, 0, 0, 0, 0, 0, -1, 1, -1, 5, -1, -1, -1, -1],\n",
       " [0, 0, 0, 0, 0, 0, 9, -1, 19, -1, 23, -1, -1, -1],\n",
       " [0, 0, 0, 0, 0, 0, 5, 49, -1, -1, -1, -1, -1, -1],\n",
       " [0, 0, 0, 0, 0, 0, 5, -1, -1, 1, -1, 10, -1, -1],\n",
       " [0, 0, 0, 0, 0, 0, 9, -1, 19, -1, 23, -1, -1, -1],\n",
       " [0, 0, 0, 0, 0, 0, -1, 1, -1, 6, -1, -1, -1, -1],\n",
       " [0, 0, 0, 0, 0, 0, -1, 1, -1, 6, -1, 10, -1, -1],\n",
       " [0, 0, 0, 0, 0, 0, 2, -1, 3, -1, 39, -1, -1, -1],\n",
       " [0, 0, 0, 0, 0, 0, 2, -1, 3, -1, 39, -1, -1, -1],\n",
       " [0, 0, 0, 0, 0, 0, 2, -1, 3, -1, -1, -1, -1, -1],\n",
       " [0, 0, 0, 0, 0, 0, -1, 3, -1, 4, -1, 52, -1, -1],\n",
       " [0, 0, 0, 0, 0, 0, -1, 3, -1, 4, -1, 52, -1, -1],\n",
       " [0, 0, 0, 0, 0, 0, -1, 3, -1, 4, -1, 52, -1, -1],\n",
       " [0, 0, 0, 0, 0, 0, -1, 3, -1, 4, -1, 52, -1, -1]]"
      ]
     },
     "execution_count": 107,
     "metadata": {},
     "output_type": "execute_result"
    }
   ],
   "source": [
    "matrix_node_tools"
   ]
  },
  {
   "cell_type": "markdown",
   "metadata": {},
   "source": [
    "## The code below implements the simulation multiple times (parameter 'sims'), and plots a distribution of rounds until discovery of superdrug."
   ]
  },
  {
   "cell_type": "markdown",
   "metadata": {},
   "source": [
    "* Next cell imports and prepares the files and needs to be run only once"
   ]
  },
  {
   "cell_type": "code",
   "execution_count": 110,
   "metadata": {},
   "outputs": [],
   "source": [
    "net = 'agtanet.txt'\n",
    "G = nx.read_weighted_edgelist(net, nodetype = int)\n",
    "\n",
    "Agtakin = 'agtanetkin.txt'\n",
    "file_kin = open(Agtakin, \"r\") \n",
    "for line in file_kin.readlines(): \n",
    "    elems = [int(float(x)) if \"e\" in x or \".\" in x else int(x) for x in line.strip(\"\\n \").split(\" \")]\n",
    "    i=int(elems[0]) # extracts i and j nodes from dyad\n",
    "    j=int(elems[1])\n",
    "    kinship= int(elems[3]/10) # so kinship is 1 for close kin, 2 for distant kin, 3 for non-kin\n",
    "    #print(kinship)\n",
    "    if G.has_edge(i,j) == True: # now check in G if (i, j) exists\n",
    "        G[i][j]['kin']=kinship # if so, create variable kin with value kinship \n",
    "file_kin.close()"
   ]
  },
  {
   "cell_type": "markdown",
   "metadata": {},
   "source": [
    "* Next cell should be re-run everytime you change number of sims, conditions etc."
   ]
  },
  {
   "cell_type": "code",
   "execution_count": 36,
   "metadata": {},
   "outputs": [
    {
     "data": {
      "text/plain": "<Figure size 640x480 with 1 Axes>",
      "image/png": "[encoded data removed]"
     },
     "metadata": {},
     "output_type": "display_data"
    },
    {
     "name": "stdout",
     "output_type": "stream",
     "text": [
      "Simulations =  1000\n",
      "Mean time to discovery of C1/C2 =  37.305 rounds\n"
     ]
    }
   ],
   "source": [
    "import networkx as nx\n",
    "import random as rd\n",
    "import numpy as np\n",
    "import matplotlib.pyplot as plt\n",
    "import matplotlib\n",
    "\n",
    "sims = 1000\n",
    "sim_duration = [] # to store each simulation duration \n",
    "\n",
    "# beginning of simulations\n",
    "for i in range(sims):\n",
    "    G_closekin = nx.Graph() # creates a new empty network\n",
    "    for i, j in G.edges:\n",
    "        if G[i][j]['kin'] == 1: # if (i, j) dyad in G is kin = 1\n",
    "            G_closekin.add_edge(i, j) # add that edge to new network\n",
    "            G_closekin[i][j]['weight'] = G[i][j]['weight'] # add weight from G to new network \n",
    "\n",
    "    for node in G: \n",
    "        if node not in G_closekin:\n",
    "            G_closekin.add_node(node)\n",
    "\n",
    "    matrix_node_tools=[[0]*6 + [-1]*8 for i in range (len(G))]\n",
    "    fitness_values = [6, 8, 10, 6, 8, 10, 30, 30, 60, 60, 120, 120, 300, 300] # each column has a value\n",
    "    innovations_dict = {(0, 1, 2): 6, \n",
    "                 (3, 4, 5): 7,\n",
    "                 (0, 4, 6): 8,\n",
    "                 (1, 2, 7): 9,\n",
    "                 (4, 5, 8): 10,\n",
    "                 (1, 3, 9): 11,\n",
    "                 (8, 10, 11): 12,\n",
    "                 (9, 10, 11): 13}\n",
    "\n",
    "    rounds=10000\n",
    "    stop_sim=0   \n",
    "    for epoch in range(rounds):\n",
    "        random_node_list = rd.sample(range(len(G)), len(G))\n",
    "        for node in random_node_list:\n",
    "            neighbour_list = []\n",
    "            for neighbour in G[node]:\n",
    "                for times in range(int(G[node][neighbour]['weight'])):\n",
    "                    neighbour_list.append(neighbour)\n",
    "            selected_neighbour = rd.choice(neighbour_list)\n",
    "\n",
    "            ingredients_node=np.where(np.array(matrix_node_tools[node])>-1)[0] \n",
    "            ingredients_neighbour=np.where(np.array(matrix_node_tools[selected_neighbour])>-1)[0]\n",
    "\n",
    "            node_tools=[]\n",
    "            for tool in ingredients_node:\n",
    "                for times in range(fitness_values[tool]):\n",
    "                    node_tools.append(tool)\n",
    "            node_tool_1, node_tool_2 = rd.sample(node_tools, 2)\n",
    "\n",
    "            neighbour_tools=[]\n",
    "            for tool in ingredients_neighbour:\n",
    "                for times in range(fitness_values[tool]):\n",
    "                    neighbour_tools.append(tool)\n",
    "            neighbour_tool = rd.choice(neighbour_tools)\n",
    "\n",
    "            triad = [node_tool_1, node_tool_2, neighbour_tool]\n",
    "            triad = tuple(sorted(triad))\n",
    "            new_tool = innovations_dict.get(triad,-1)\n",
    "\n",
    "            # until here, similar to previous cell  \n",
    "\n",
    "            if new_tool > -1: # if a new drug was created (6, 7 or 8 etc) \n",
    "                # check if node and neighbour already have invented tool \n",
    "                have_new_tool = -1 # we need this later\n",
    "                if matrix_node_tools[node][new_tool] == -1: # if position (i = node, j = new tool) in matrix is absent\n",
    "                    have_new_tool = 1 \n",
    "                    matrix_node_tools[node][new_tool] = epoch + 1 # node gains new tools, replace -1 with round of discovery\n",
    "                    for node_kin in G_closekin[node]: # now use matrix G_closekin to identify all close kin of node \n",
    "                        matrix_node_tools[node_kin][new_tool] = epoch + 1 # tranmits new tool to all kin\n",
    "\n",
    "                if matrix_node_tools[selected_neighbour][new_tool] == -1: #check if selected neighbour has tool\n",
    "                    have_new_tool = 1 \n",
    "                    matrix_node_tools[selected_neighbour][new_tool]= epoch + 1 # neighbours gains new tool\n",
    "                    for neighbour_kin in G_closekin[selected_neighbour]:\n",
    "                        matrix_node_tools[neighbour_kin][new_tool] = epoch+ 1\n",
    "\n",
    "                if have_new_tool == 1: #if either node or neighbour received the new tool\n",
    "                    #print(new_tool, epoch + 1, node, selected_neighbour)\n",
    "                    if new_tool in [12,13]: # BUT if the new tool is a superdrug C1=12 or C2=13\n",
    "                        stop_sim=1 # simulations ends\n",
    "                        sim_duration.append(epoch + 1)                        \n",
    "            if stop_sim==1:\n",
    "                break\n",
    "        if stop_sim==1:\n",
    "            break\n",
    "\n",
    "plt.hist(sim_duration, facecolor='b', alpha=.5, rwidth=.8)\n",
    "plt.show()\n",
    "print(\"Simulations = \", sims)\n",
    "print(\"Mean time to discovery of C1/C2 = \", np.mean(sim_duration), \"rounds\")"
   ]
  },
  {
   "cell_type": "code",
   "execution_count": 112,
   "metadata": {},
   "outputs": [
    {
     "data": {
      "image/png": "[encoded data removed]",
      "text/plain": [
       "<Figure size 432x288 with 1 Axes>"
      ]
     },
     "metadata": {
      "needs_background": "light"
     },
     "output_type": "display_data"
    },
    {
     "name": "stdout",
     "output_type": "stream",
     "text": [
      "Simulations =  100\n",
      "Mean time to discovery of C1/C2 =  32.94 rounds\n"
     ]
    }
   ],
   "source": [
    "plt.hist(sim_duration, facecolor='b', alpha=.5, width=8)\n",
    "plt.show()\n",
    "print(\"Simulations = \", sims)\n",
    "print(\"Mean time to discovery of C1/C2 = \", np.mean(sim_duration), \"rounds\")"
   ]
  },
  {
   "cell_type": "markdown",
   "metadata": {},
   "source": [
    "## Exercise 1\n",
    "\n",
    "Modify the code so that:\n",
    "* Instead of transferring the new tool only to close kin, both node and neighbour transmit new tools to **all** their neighbours \n",
    "\n"
   ]
  },
  {
   "cell_type": "code",
   "execution_count": 38,
   "metadata": {},
   "outputs": [
    {
     "data": {
      "text/plain": "<Figure size 640x480 with 1 Axes>",
      "image/png": "[encoded data removed]"
     },
     "metadata": {},
     "output_type": "display_data"
    },
    {
     "name": "stdout",
     "output_type": "stream",
     "text": [
      "Simulations =  10\n",
      "Mean time to discovery of C1/C2 =  71.7 rounds\n"
     ]
    }
   ],
   "source": [
    "sims = 10\n",
    "sim_duration = [] # to store each simulation duration\n",
    "\n",
    "# beginning of simulations\n",
    "for i in range(sims):\n",
    "\n",
    "    # network G has already been created\n",
    "\n",
    "    matrix_node_tools=[[0]*6 + [-1]*8 for i in range (len(G))]\n",
    "    fitness_values = [6, 8, 10, 6, 8, 10, 30, 30, 60, 60, 120, 120, 300, 300] # each column has a value\n",
    "    innovations_dict = {(0, 1, 2): 6,\n",
    "                 (3, 4, 5): 7,\n",
    "                 (0, 4, 6): 8,\n",
    "                 (1, 2, 7): 9,\n",
    "                 (4, 5, 8): 10,\n",
    "                 (1, 3, 9): 11,\n",
    "                 (8, 10, 11): 12,\n",
    "                 (9, 10, 11): 13}\n",
    "\n",
    "    rounds=10000\n",
    "    stop_sim=0\n",
    "    for epoch in range(rounds):\n",
    "        random_node_list = rd.sample(range(len(G)), len(G))\n",
    "        for node in random_node_list:\n",
    "            neighbour_list = []\n",
    "            for neighbour in G[node]:\n",
    "                for times in range(int(G[node][neighbour]['weight'])):\n",
    "                    neighbour_list.append(neighbour)\n",
    "            selected_neighbour = rd.choice(neighbour_list)\n",
    "\n",
    "            ingredients_node=np.where(np.array(matrix_node_tools[node])>-1)[0]\n",
    "            ingredients_neighbour=np.where(np.array(matrix_node_tools[selected_neighbour])>-1)[0]\n",
    "\n",
    "            node_tools=[]\n",
    "            for tool in ingredients_node:\n",
    "                for times in range(fitness_values[tool]):\n",
    "                    node_tools.append(tool)\n",
    "            node_tool_1, node_tool_2 = rd.sample(node_tools, 2)\n",
    "\n",
    "            neighbour_tools=[]\n",
    "            for tool in ingredients_neighbour:\n",
    "                for times in range(fitness_values[tool]):\n",
    "                    neighbour_tools.append(tool)\n",
    "            neighbour_tool = rd.choice(neighbour_tools)\n",
    "\n",
    "            triad = [node_tool_1, node_tool_2, neighbour_tool]\n",
    "            triad = tuple(sorted(triad))\n",
    "            new_tool = innovations_dict.get(triad,-1)\n",
    "\n",
    "\n",
    "            if new_tool > -1: # if a new drug was created (6, 7 or 8 etc)\n",
    "                # check if node and neighbour already have invented tool\n",
    "                have_new_tool = -1 # we need this later\n",
    "                if matrix_node_tools[node][new_tool] == -1: # if position (i = node, j = new tool) in matrix is absent\n",
    "                    have_new_tool = 1\n",
    "                    matrix_node_tools[node][new_tool] = epoch + 1 # node gains new tools, replace -1 with round of discovery\n",
    "###############################################################################################################\n",
    "                    for node_next in G[node]: # now use matrix G_closekin to identify all close kin of node\n",
    "                        matrix_node_tools[node_next][new_tool] = epoch + 1 # tranmits new tool to all neighbours\n",
    "################################################################################################################\n",
    "\n",
    "                if matrix_node_tools[selected_neighbour][new_tool] == -1: #check if selected neighbour has tool\n",
    "                    have_new_tool = 1\n",
    "                    matrix_node_tools[selected_neighbour][new_tool]= epoch + 1 # neighbours gains new tool\n",
    "                    for neighbour_kin in G_closekin[selected_neighbour]:\n",
    "                        matrix_node_tools[neighbour_kin][new_tool] = epoch+ 1\n",
    "\n",
    "                if have_new_tool == 1: #if either node or neighbour received the new tool\n",
    "                    #print(new_tool, epoch + 1, node, selected_neighbour)\n",
    "                    if new_tool in [12,13]: # BUT if the new tool is a superdrug C1=12 or C2=13\n",
    "                        stop_sim=1 # simulations ends\n",
    "                        sim_duration.append(epoch + 1)\n",
    "            if stop_sim==1:\n",
    "                break\n",
    "        if stop_sim==1:\n",
    "            break\n",
    "\n",
    "plt.hist(sim_duration, facecolor='b', alpha=.5, rwidth=.8)\n",
    "plt.show()\n",
    "print(\"Simulations = \", sims)\n",
    "print(\"Mean time to discovery of C1/C2 = \", np.mean(sim_duration), \"rounds\")"
   ]
  },
  {
   "cell_type": "markdown",
   "metadata": {},
   "source": [
    "## Exercise 2\n",
    "Modify code so that instead of the Agta network, you play the game with a *complete* or fully connected network of the same size. <br>\n",
    "Notes: <br>\n",
    "* to create a complete graph of size n = 53, use:  C = nx.complete_graph(53) (default is undirected) <br>\n",
    "* you have to remove selection based on weights of links, since the complete graph has no weigths. Select neighbour randomly."
   ]
  },
  {
   "cell_type": "code",
   "execution_count": 40,
   "metadata": {},
   "outputs": [
    {
     "data": {
      "text/plain": "<Figure size 640x480 with 1 Axes>",
      "image/png": "[encoded data removed]"
     },
     "metadata": {},
     "output_type": "display_data"
    },
    {
     "name": "stdout",
     "output_type": "stream",
     "text": [
      "Simulations =  1000\n",
      "Mean time to discovery of C1/C2 =  159.899 rounds\n"
     ]
    }
   ],
   "source": [
    "sims = 1000\n",
    "sim_duration = []  # to store each simulation duration\n",
    "\n",
    "# beginning of simulations\n",
    "for i in range(sims):\n",
    "    # complete graph\n",
    "    C = nx.complete_graph(53)\n",
    "\n",
    "    matrix_node_tools = [[0] * 6 + [-1] * 8 for i in range(len(C))]\n",
    "    fitness_values = [6, 8, 10, 6, 8, 10, 30, 30, 60, 60, 120, 120, 300, 300]  # each column has a value\n",
    "    innovations_dict = {(0, 1, 2): 6,\n",
    "                        (3, 4, 5): 7,\n",
    "                        (0, 4, 6): 8,\n",
    "                        (1, 2, 7): 9,\n",
    "                        (4, 5, 8): 10,\n",
    "                        (1, 3, 9): 11,\n",
    "                        (8, 10, 11): 12,\n",
    "                        (9, 10, 11): 13}\n",
    "\n",
    "    rounds = 10000\n",
    "    stop_sim = 0\n",
    "    for epoch in range(rounds):\n",
    "        random_node_list = rd.sample(range(len(G)), len(G))\n",
    "        for node in random_node_list:\n",
    "            # select from C\n",
    "            selected_neighbour = rd.choice(list(C[node]))\n",
    "\n",
    "            ingredients_node = np.where(np.array(matrix_node_tools[node]) > -1)[0]\n",
    "            ingredients_neighbour = np.where(np.array(matrix_node_tools[selected_neighbour]) > -1)[0]\n",
    "\n",
    "            node_tools = []\n",
    "            for tool in ingredients_node:\n",
    "                for times in range(fitness_values[tool]):\n",
    "                    node_tools.append(tool)\n",
    "            node_tool_1, node_tool_2 = rd.sample(node_tools, 2)\n",
    "\n",
    "            neighbour_tools = []\n",
    "            for tool in ingredients_neighbour:\n",
    "                for times in range(fitness_values[tool]):\n",
    "                    neighbour_tools.append(tool)\n",
    "            neighbour_tool = rd.choice(neighbour_tools)\n",
    "\n",
    "            triad = [node_tool_1, node_tool_2, neighbour_tool]\n",
    "            triad = tuple(sorted(triad))\n",
    "            new_tool = innovations_dict.get(triad, -1)\n",
    "\n",
    "            # until here, similar to previous cell\n",
    "\n",
    "            if new_tool > -1:  # if a new drug was created (6, 7 or 8 etc)\n",
    "                # check if node and neighbour already have invented tool\n",
    "                have_new_tool = -1  # we need this later\n",
    "                if matrix_node_tools[node][new_tool] == -1:  # if position (i = node, j = new tool) in matrix is absent\n",
    "                    have_new_tool = 1\n",
    "                    matrix_node_tools[node][\n",
    "                        new_tool] = epoch + 1  # node gains new tools, replace -1 with round of discovery\n",
    "                    for node_next in C[node]:  # now use matrix G_closekin to identify all close kin of node\n",
    "                        matrix_node_tools[node_next][new_tool] = epoch + 1  # tranmits new tool to all kin\n",
    "\n",
    "                if matrix_node_tools[selected_neighbour][new_tool] == -1:  #check if selected neighbour has tool\n",
    "                    have_new_tool = 1\n",
    "                    matrix_node_tools[selected_neighbour][new_tool] = epoch + 1  # neighbours gains new tool\n",
    "                    for neighbour_kin in G_closekin[selected_neighbour]:\n",
    "                        matrix_node_tools[neighbour_kin][new_tool] = epoch + 1\n",
    "\n",
    "                if have_new_tool == 1:  #if either node or neighbour received the new tool\n",
    "                    #print(new_tool, epoch + 1, node, selected_neighbour)\n",
    "                    if new_tool in [12, 13]:  # BUT if the new tool is a superdrug C1=12 or C2=13\n",
    "                        stop_sim = 1  # simulations ends\n",
    "                        sim_duration.append(epoch + 1)\n",
    "            if stop_sim == 1:\n",
    "                break\n",
    "        if stop_sim == 1:\n",
    "            break\n",
    "\n",
    "plt.hist(sim_duration, facecolor='b', alpha=.5, rwidth=.8)\n",
    "plt.show()\n",
    "print(\"Simulations = \", sims)\n",
    "print(\"Mean time to discovery of C1/C2 = \", np.mean(sim_duration), \"rounds\")"
   ]
  },
  {
   "cell_type": "code",
   "execution_count": null,
   "outputs": [],
   "source": [
    "# try to make to jit\n",
    "@jit(nopython=True)\n",
    "def sim2a(sims, G_nodes, lenG):\n",
    "    sim_duration = [] # to store each simulation duration\n",
    "\n",
    "    # beginning of simulations\n",
    "    for i in range(sims):\n",
    "\n",
    "        # network G has already been created\n",
    "\n",
    "        matrix_node_tools=[[0]*6 + [-1]*8 for i in range (lenG)]\n",
    "        fitness_values = [6, 8, 10, 6, 8, 10, 30, 30, 60, 60, 120, 120, 300, 300] # each column has a value\n",
    "        innovations_dict = {12: 6,\n",
    "                     345: 7,\n",
    "                     46: 8,\n",
    "                     127: 9,\n",
    "                     458: 10,\n",
    "                     139: 11,\n",
    "                     911: 12,\n",
    "                     1011: 13}\n",
    "\n",
    "        rounds=10000\n",
    "        stop_sim=0\n",
    "        for epoch in range(rounds):\n",
    "            random_node_list = np.random.choice(np.arange(lenG), size = lenG, replace= False)\n",
    "            for node in random_node_list:\n",
    "                selected_neighbour = node\n",
    "                while selected_neighbour == node:\n",
    "                    selected_neighbour = np.random.choice(np.arange(lenG))\n",
    "\n",
    "                ingredients_node=np.where(np.array(matrix_node_tools[node])>-1)[0]\n",
    "                ingredients_neighbour=np.where(np.array(matrix_node_tools[selected_neighbour])>-1)[0]\n",
    "\n",
    "                node_tools=[]\n",
    "                for tool in ingredients_node:\n",
    "                    for times in range(fitness_values[tool]):\n",
    "                        node_tools.append(tool)\n",
    "                node_tool_1, node_tool_2 = np.random.choice(np.array(node_tools), 2)\n",
    "\n",
    "                neighbour_tools=[]\n",
    "                for tool in ingredients_neighbour:\n",
    "                    for times in range(fitness_values[tool]):\n",
    "                        neighbour_tools.append(tool)\n",
    "                neighbour_tool =  np.random.choice(np.array(neighbour_tools))\n",
    "\n",
    "                #triad = int(str(node_tool_1) + str(node_tool_2) + str(neighbour_tool))\n",
    "                triad = sorted([node_tool_1, node_tool_2, neighbour_tool])\n",
    "                triad = triad[0] * 100 + triad[1] * 10 + triad[2]\n",
    "                new_tool = innovations_dict.get(triad,-1)\n",
    "\n",
    "\n",
    "                if new_tool > -1: # if a new drug was created (6, 7 or 8 etc)\n",
    "                    # check if node and neighbour already have invented tool\n",
    "                    have_new_tool = -1 # we need this later\n",
    "                    if matrix_node_tools[node][new_tool] == -1: # if position (i = node, j = new tool) in matrix is absent\n",
    "                        have_new_tool = 1\n",
    "                        matrix_node_tools[node][new_tool] = epoch + 1 # node gains new tools, replace -1 with round of discovery\n",
    "    ###############################################################################################################\n",
    "                        for node_next in G_nodes[node]: # now use matrix G_closekin to identify all close kin of node\n",
    "                            matrix_node_tools[node_next][new_tool] = epoch + 1 # tranmits new tool to all neighbours\n",
    "    ################################################################################################################\n",
    "\n",
    "                    if matrix_node_tools[selected_neighbour][new_tool] == -1: #check if selected neighbour has tool\n",
    "                        have_new_tool = 1\n",
    "                        matrix_node_tools[selected_neighbour][new_tool]= epoch + 1 # neighbours gains new tool\n",
    "    ###############################################################################################################\n",
    "                        for neighbour_kin in G_nodes[selected_neighbour]:\n",
    "                            matrix_node_tools[neighbour_kin][new_tool] = epoch+ 1\n",
    "    ###############################################################################################################\n",
    "\n",
    "                    if have_new_tool == 1: #if either node or neighbour received the new tool\n",
    "                        #print(new_tool, epoch + 1, node, selected_neighbour)\n",
    "                        if new_tool in [12,13]: # BUT if the new tool is a superdrug C1=12 or C2=13\n",
    "                            stop_sim=1 # simulations ends\n",
    "                            sim_duration.append(epoch + 1)\n",
    "                if stop_sim==1:\n",
    "                    break\n",
    "            if stop_sim==1:\n",
    "                break\n",
    "\n",
    "    return sim_duration\n",
    "\n",
    "G = nx.read_weighted_edgelist(net, nodetype = int)\n",
    "# extract properties to work with numba\n",
    "lenG = len(G)\n",
    "G_nodes = list(G[i]) for i in range(lenG)}\n",
    "sims = 100\n",
    "sim_duration = sim2a(sims, G_nodes, lenG)\n",
    "plt.hist(sim_duration, facecolor='b', alpha=.5, rwidth=.8)\n",
    "plt.show()\n",
    "print(\"Simulations = \", sims)\n",
    "print(\"Mean time to discovery of C1/C2 = \", np.mean(sim_duration), \"rounds\")"
   ],
   "metadata": {
    "collapsed": false
   }
  }
 ],
 "metadata": {
  "kernelspec": {
   "display_name": "Python 3",
   "language": "python",
   "name": "python3"
  },
  "language_info": {
   "codemirror_mode": {
    "name": "ipython",
    "version": 3
   },
   "file_extension": ".py",
   "mimetype": "text/x-python",
   "name": "python",
   "nbconvert_exporter": "python",
   "pygments_lexer": "ipython3",
   "version": "3.8.5"
  }
 },
 "nbformat": 4,
 "nbformat_minor": 2
}
