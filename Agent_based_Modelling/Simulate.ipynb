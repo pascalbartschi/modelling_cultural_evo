{
 "cells": [
  {
   "cell_type": "markdown",
   "id": "4678ad70",
   "metadata": {},
   "source": [
    "# Manual Simulations"
   ]
  },
  {
   "cell_type": "code",
   "execution_count": 1,
   "id": "83ab51f8",
   "metadata": {},
   "outputs": [
    {
     "ename": "ModuleNotFoundError",
     "evalue": "No module named 'ABM1_Segregation'",
     "output_type": "error",
     "traceback": [
      "\u001b[0;31m---------------------------------------------------------------------------\u001b[0m",
      "\u001b[0;31mModuleNotFoundError\u001b[0m                       Traceback (most recent call last)",
      "\u001b[0;32m/var/folders/pb/csxhkt_j7zg014q0zhg0hj180000gp/T/ipykernel_10707/3843628697.py\u001b[0m in \u001b[0;36m<module>\u001b[0;34m\u001b[0m\n\u001b[0;32m----> 1\u001b[0;31m \u001b[0;32mimport\u001b[0m \u001b[0mABM1_Segregation\u001b[0m \u001b[0;32mas\u001b[0m \u001b[0mabm1\u001b[0m\u001b[0;34m\u001b[0m\u001b[0;34m\u001b[0m\u001b[0m\n\u001b[0m\u001b[1;32m      2\u001b[0m \u001b[0;32mimport\u001b[0m \u001b[0mABM2_Swarm\u001b[0m \u001b[0;32mas\u001b[0m \u001b[0mabm2\u001b[0m\u001b[0;34m\u001b[0m\u001b[0;34m\u001b[0m\u001b[0m\n",
      "\u001b[0;31mModuleNotFoundError\u001b[0m: No module named 'ABM1_Segregation'"
     ]
    }
   ],
   "source": [
    "import ABM1_Segregation as abm1\n",
    "import ABM2_Swarm as abm2\n",
    "\n",
    "fig = plt.figure()\n",
    "panel = fig.add_subplot(1,1,1)"
   ]
  },
  {
   "cell_type": "code",
   "execution_count": null,
   "id": "ba19bfb5",
   "metadata": {},
   "outputs": [],
   "source": [
    "# animation with updated window\n",
    "        panel.clear()\n",
    "        panel.set_aspect('equal')\n",
    "        panel.set_ylim(-3,35)\n",
    "        panel.set_xlim(-15,15)\n",
    "        panel.plot(VP[:,0],VP[:,1],'blue')\n",
    "        panel.plot(VP[[0,-1],0],VP[[0,-1],1],'blue')\n",
    "        plt.pause(0.01)"
   ]
  },
  {
   "cell_type": "code",
   "execution_count": null,
   "id": "7e553199",
   "metadata": {},
   "outputs": [],
   "source": []
  }
 ],
 "metadata": {
  "kernelspec": {
   "display_name": "Python 3 (ipykernel)",
   "language": "python",
   "name": "python3"
  },
  "language_info": {
   "codemirror_mode": {
    "name": "ipython",
    "version": 3
   },
   "file_extension": ".py",
   "mimetype": "text/x-python",
   "name": "python",
   "nbconvert_exporter": "python",
   "pygments_lexer": "ipython3",
   "version": "3.9.13"
  }
 },
 "nbformat": 4,
 "nbformat_minor": 5
}
