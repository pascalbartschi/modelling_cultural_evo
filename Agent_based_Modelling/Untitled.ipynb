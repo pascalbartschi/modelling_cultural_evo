{
 "cells": [
  {
   "cell_type": "code",
   "execution_count": 1,
   "id": "08f87168",
   "metadata": {},
   "outputs": [
    {
     "name": "stdout",
     "output_type": "stream",
     "text": [
      "Collecting PyQT6\n",
      "  Downloading PyQt6-6.4.2-cp37-abi3-macosx_10_14_universal2.whl (11.6 MB)\n",
      "\u001b[2K     \u001b[90m━━━━━━━━━━━━━━━━━━━━━━━━━━━━━━━━━━━━━━━━\u001b[0m \u001b[32m11.6/11.6 MB\u001b[0m \u001b[31m24.9 MB/s\u001b[0m eta \u001b[36m0:00:00\u001b[0m00:01\u001b[0m00:01\u001b[0m\n",
      "\u001b[?25hCollecting PyQt6-sip<14,>=13.4\n",
      "  Downloading PyQt6_sip-13.4.1-cp39-cp39-macosx_10_9_universal2.whl (131 kB)\n",
      "\u001b[2K     \u001b[90m━━━━━━━━━━━━━━━━━━━━━━━━━━━━━━━━━━━━━━━\u001b[0m \u001b[32m131.1/131.1 kB\u001b[0m \u001b[31m5.6 MB/s\u001b[0m eta \u001b[36m0:00:00\u001b[0m\n",
      "\u001b[?25hCollecting PyQt6-Qt6>=6.4.0\n",
      "  Downloading PyQt6_Qt6-6.4.3-py3-none-macosx_10_14_x86_64.whl (49.5 MB)\n",
      "\u001b[2K     \u001b[90m━━━━━━━━━━━━━━━━━━━━━━━━━━━━━━━━━━━━━━━━\u001b[0m \u001b[32m49.5/49.5 MB\u001b[0m \u001b[31m28.2 MB/s\u001b[0m eta \u001b[36m0:00:00\u001b[0m00:01\u001b[0m00:01\u001b[0m\n",
      "\u001b[?25hInstalling collected packages: PyQt6-Qt6, PyQt6-sip, PyQT6\n",
      "Successfully installed PyQT6-6.4.2 PyQt6-Qt6-6.4.3 PyQt6-sip-13.4.1\n"
     ]
    }
   ],
   "source": [
    "!pip install PyQT6"
   ]
  },
  {
   "cell_type": "code",
   "execution_count": 2,
   "id": "a03000e6",
   "metadata": {},
   "outputs": [],
   "source": [
    "import PyQt6.QtCore\n",
    "import os\n",
    "os.environ[\"QT_API\"] = \"pyqt5\""
   ]
  },
  {
   "cell_type": "code",
   "execution_count": null,
   "id": "cb8d18d1",
   "metadata": {},
   "outputs": [],
   "source": []
  }
 ],
 "metadata": {
  "kernelspec": {
   "display_name": "Python 3 (ipykernel)",
   "language": "python",
   "name": "python3"
  },
  "language_info": {
   "codemirror_mode": {
    "name": "ipython",
    "version": 3
   },
   "file_extension": ".py",
   "mimetype": "text/x-python",
   "name": "python",
   "nbconvert_exporter": "python",
   "pygments_lexer": "ipython3",
   "version": "3.9.13"
  }
 },
 "nbformat": 4,
 "nbformat_minor": 5
}
